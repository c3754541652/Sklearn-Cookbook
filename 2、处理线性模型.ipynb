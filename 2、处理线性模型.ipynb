{
 "cells": [
  {
   "cell_type": "markdown",
   "metadata": {},
   "source": [
    "## 本章包含以下主题：\n",
    "\n",
    "1. 线性回归模型\n",
    "2. 评估线性回归模型\n",
    "3. 用岭回归弥补线性回归的不足\n",
    "4. 优化岭回归参数\n",
    "5. LASSO正则化\n",
    "6. LARS正则化\n",
    "7. 用线性方法处理分类问题——逻辑回归\n",
    "8. 贝叶斯岭回归\n",
    "9. 用梯度提升回归从误差中学习"
   ]
  },
  {
   "cell_type": "markdown",
   "metadata": {},
   "source": [
    "***简介***\n",
    "\n",
    "线性模型是统计学和机器学习的基础。很多方法都利用变量的线性组合描述数据之\n",
    "间的关系。通常都要花费很大精力做各种变换，目的就是为了让数据可以描述成一\n",
    "种线性组合形式。\n",
    "\n",
    "本章，我们将从最简单的数据直线拟合模型到分类模型，最后介绍贝叶斯岭回归。"
   ]
  },
  {
   "cell_type": "markdown",
   "metadata": {},
   "source": [
    "## 线性回归模型\n",
    "现在，我们来做一些建模！我们从最简单的线性回归（Linear regression）开始。\n",
    "线性回归是最早的也是最基本的模型——把数据拟合成一条直线。\n",
    "### Getting ready\n",
    "boston 数据集很适合用来演示线性回归。 boston 数据集包含了波士顿地区的\n",
    "房屋价格中位数。还有一些可能会影响房价的因素，比如犯罪率（crime rate）。\n",
    "首先，让我们加载数据："
   ]
  },
  {
   "cell_type": "code",
   "execution_count": 2,
   "metadata": {
    "collapsed": true
   },
   "outputs": [],
   "source": [
    "from sklearn import datasets\n",
    "boston = datasets.load_boston()"
   ]
  },
  {
   "cell_type": "markdown",
   "metadata": {},
   "source": [
    "### How to do it...\n",
    "实际上，用scikit-learn的线性回归非常简单，其API和前面介绍的模型一样。\n",
    "首先，导入 LinearRegression 类创建一个对象："
   ]
  },
  {
   "cell_type": "code",
   "execution_count": 3,
   "metadata": {
    "collapsed": true
   },
   "outputs": [],
   "source": [
    "from sklearn.linear_model import LinearRegression\n",
    "lr = LinearRegression()"
   ]
  },
  {
   "cell_type": "code",
   "execution_count": 4,
   "metadata": {
    "collapsed": false
   },
   "outputs": [
    {
     "data": {
      "text/plain": [
       "LinearRegression(copy_X=True, fit_intercept=True, n_jobs=1, normalize=False)"
      ]
     },
     "execution_count": 4,
     "metadata": {},
     "output_type": "execute_result"
    }
   ],
   "source": [
    "lr.fit(boston.data, boston.target)"
   ]
  },
  {
   "cell_type": "markdown",
   "metadata": {},
   "source": [
    "## 评估线性回归模型"
   ]
  },
  {
   "cell_type": "markdown",
   "metadata": {},
   "source": [
    "在这个主题中，我们将介绍回归模型拟合数据的效果。上一个主题我们拟合了数\n",
    "据，但是并没太关注拟合的效果。每当拟合工作做完之后，我们应该问的第一个问\n",
    "题就是“拟合的效果如何？”本主题将回答这个问题。\n",
    "### Getting ready\n",
    "我们还用上一主题里的 lr 对象和 boston 数据集。 lr 对象已经拟合过数据，\n",
    "现在有许多方法可以用。"
   ]
  },
  {
   "cell_type": "code",
   "execution_count": 10,
   "metadata": {
    "collapsed": false
   },
   "outputs": [],
   "source": [
    "prediction = lr.predict(boston.data)"
   ]
  },
  {
   "cell_type": "markdown",
   "metadata": {},
   "source": [
    "### How to do it...\n",
    "我们可以看到一些简单的量度（metris）和图形。让我们看看上一章的残差图："
   ]
  },
  {
   "cell_type": "code",
   "execution_count": 11,
   "metadata": {
    "collapsed": false
   },
   "outputs": [
    {
     "data": {
      "image/png": "[encoded data removed]",
      "text/plain": [
       "<matplotlib.figure.Figure at 0x9cbcda0>"
      ]
     },
     "metadata": {},
     "output_type": "display_data"
    }
   ],
   "source": [
    "%matplotlib inline\n",
    "from matplotlib import pyplot as plt\n",
    "f, ax = plt.subplots(figsize=(7, 5))\n",
    "f.tight_layout()\n",
    "ax.hist(boston.target - prediction,bins=40, label='Residuals Linear', color='b', alpha=.5);\n",
    "ax.set_title(\"Histogram of Residuals\")\n",
    "ax.legend(loc='best')"
   ]
  },
  {
   "cell_type": "markdown",
   "metadata": {},
   "source": [
    "和之前介绍的一样，误差项服从均值为0的正态分布。残差就是误差，所以这个图\n",
    "也应噶近似正态分布。看起来拟合挺好的，只是有点偏。我们计算一下残差的均\n",
    "值，应该很接近0："
   ]
  },
  {
   "cell_type": "code",
   "execution_count": 13,
   "metadata": {
    "collapsed": false
   },
   "outputs": [
    {
     "data": {
      "text/plain": [
       "-1.7272086264524175e-15"
      ]
     },
     "execution_count": 13,
     "metadata": {},
     "output_type": "execute_result"
    }
   ],
   "source": [
    "import numpy as np\n",
    "np.mean(boston.target - prediction)"
   ]
  },
  {
   "cell_type": "markdown",
   "metadata": {},
   "source": [
    "另一个值得看的图是Q-Q图（分位数概率分布），我们用Scipy来实现图形，因为它\n",
    "内置这个概率分布图的方法："
   ]
  },
  {
   "cell_type": "code",
   "execution_count": 16,
   "metadata": {
    "collapsed": false
   },
   "outputs": [
    {
     "data": {
      "text/plain": [
       "((array([ -2.99573567e+00,  -2.71411028e+00,  -2.55577619e+00,\n",
       "          -2.44351800e+00,  -2.35556494e+00,  -2.28276382e+00,\n",
       "          -2.22036495e+00,  -2.16557440e+00,  -2.11660431e+00,\n",
       "          -2.07223893e+00,  -2.03161265e+00,  -1.99408648e+00,\n",
       "          -1.95917475e+00,  -1.92649942e+00,  -1.89576017e+00,\n",
       "          -1.86671438e+00,  -1.83916307e+00,  -1.81294098e+00,\n",
       "          -1.78790928e+00,  -1.76395019e+00,  -1.74096288e+00,\n",
       "          -1.71886034e+00,  -1.69756695e+00,  -1.67701655e+00,\n",
       "          -1.65715093e+00,  -1.63791855e+00,  -1.61927361e+00,\n",
       "          -1.60117517e+00,  -1.58358651e+00,  -1.56647453e+00,\n",
       "          -1.54980933e+00,  -1.53356377e+00,  -1.51771316e+00,\n",
       "          -1.50223493e+00,  -1.48710847e+00,  -1.47231481e+00,\n",
       "          -1.45783653e+00,  -1.44365756e+00,  -1.42976302e+00,\n",
       "          -1.41613915e+00,  -1.40277318e+00,  -1.38965322e+00,\n",
       "          -1.37676820e+00,  -1.36410778e+00,  -1.35166231e+00,\n",
       "          -1.33942275e+00,  -1.32738062e+00,  -1.31552796e+00,\n",
       "          -1.30385728e+00,  -1.29236155e+00,  -1.28103411e+00,\n",
       "          -1.26986869e+00,  -1.25885938e+00,  -1.24800057e+00,\n",
       "          -1.23728696e+00,  -1.22671351e+00,  -1.21627546e+00,\n",
       "          -1.20596826e+00,  -1.19578762e+00,  -1.18572943e+00,\n",
       "          -1.17578979e+00,  -1.16596497e+00,  -1.15625143e+00,\n",
       "          -1.14664578e+00,  -1.13714478e+00,  -1.12774533e+00,\n",
       "          -1.11844448e+00,  -1.10923938e+00,  -1.10012733e+00,\n",
       "          -1.09110572e+00,  -1.08217204e+00,  -1.07332392e+00,\n",
       "          -1.06455903e+00,  -1.05587517e+00,  -1.04727022e+00,\n",
       "          -1.03874212e+00,  -1.03028890e+00,  -1.02190867e+00,\n",
       "          -1.01359960e+00,  -1.00535993e+00,  -9.97187950e-01,\n",
       "          -9.89082030e-01,  -9.81040583e-01,  -9.73062080e-01,\n",
       "          -9.65145042e-01,  -9.57288042e-01,  -9.49489697e-01,\n",
       "          -9.41748672e-01,  -9.34063672e-01,  -9.26433446e-01,\n",
       "          -9.18856778e-01,  -9.11332495e-01,  -9.03859457e-01,\n",
       "          -8.96436557e-01,  -8.89062726e-01,  -8.81736921e-01,\n",
       "          -8.74458134e-01,  -8.67225385e-01,  -8.60037720e-01,\n",
       "          -8.52894215e-01,  -8.45793969e-01,  -8.38736110e-01,\n",
       "          -8.31719785e-01,  -8.24744168e-01,  -8.17808453e-01,\n",
       "          -8.10911857e-01,  -8.04053616e-01,  -7.97232988e-01,\n",
       "          -7.90449248e-01,  -7.83701690e-01,  -7.76989626e-01,\n",
       "          -7.70312386e-01,  -7.63669315e-01,  -7.57059776e-01,\n",
       "          -7.50483145e-01,  -7.43938816e-01,  -7.37426194e-01,\n",
       "          -7.30944700e-01,  -7.24493769e-01,  -7.18072847e-01,\n",
       "          -7.11681394e-01,  -7.05318883e-01,  -6.98984797e-01,\n",
       "          -6.92678632e-01,  -6.86399893e-01,  -6.80148098e-01,\n",
       "          -6.73922775e-01,  -6.67723460e-01,  -6.61549701e-01,\n",
       "          -6.55401055e-01,  -6.49277088e-01,  -6.43177375e-01,\n",
       "          -6.37101499e-01,  -6.31049052e-01,  -6.25019633e-01,\n",
       "          -6.19012852e-01,  -6.13028323e-01,  -6.07065669e-01,\n",
       "          -6.01124520e-01,  -5.95204515e-01,  -5.89305296e-01,\n",
       "          -5.83426515e-01,  -5.77567828e-01,  -5.71728899e-01,\n",
       "          -5.65909397e-01,  -5.60108998e-01,  -5.54327383e-01,\n",
       "          -5.48564239e-01,  -5.42819257e-01,  -5.37092135e-01,\n",
       "          -5.31382576e-01,  -5.25690287e-01,  -5.20014981e-01,\n",
       "          -5.14356375e-01,  -5.08714191e-01,  -5.03088156e-01,\n",
       "          -4.97477999e-01,  -4.91883457e-01,  -4.86304268e-01,\n",
       "          -4.80740175e-01,  -4.75190926e-01,  -4.69656272e-01,\n",
       "          -4.64135967e-01,  -4.58629771e-01,  -4.53137444e-01,\n",
       "          -4.47658752e-01,  -4.42193465e-01,  -4.36741354e-01,\n",
       "          -4.31302195e-01,  -4.25875766e-01,  -4.20461848e-01,\n",
       "          -4.15060226e-01,  -4.09670688e-01,  -4.04293024e-01,\n",
       "          -3.98927026e-01,  -3.93572490e-01,  -3.88229215e-01,\n",
       "          -3.82897001e-01,  -3.77575652e-01,  -3.72264973e-01,\n",
       "          -3.66964772e-01,  -3.61674861e-01,  -3.56395050e-01,\n",
       "          -3.51125157e-01,  -3.45864997e-01,  -3.40614389e-01,\n",
       "          -3.35373155e-01,  -3.30141118e-01,  -3.24918102e-01,\n",
       "          -3.19703936e-01,  -3.14498447e-01,  -3.09301466e-01,\n",
       "          -3.04112825e-01,  -2.98932359e-01,  -2.93759903e-01,\n",
       "          -2.88595295e-01,  -2.83438373e-01,  -2.78288978e-01,\n",
       "          -2.73146951e-01,  -2.68012137e-01,  -2.62884379e-01,\n",
       "          -2.57763524e-01,  -2.52649420e-01,  -2.47541915e-01,\n",
       "          -2.42440860e-01,  -2.37346105e-01,  -2.32257504e-01,\n",
       "          -2.27174909e-01,  -2.22098177e-01,  -2.17027162e-01,\n",
       "          -2.11961722e-01,  -2.06901715e-01,  -2.01846999e-01,\n",
       "          -1.96797436e-01,  -1.91752886e-01,  -1.86713211e-01,\n",
       "          -1.81678273e-01,  -1.76647937e-01,  -1.71622067e-01,\n",
       "          -1.66600528e-01,  -1.61583187e-01,  -1.56569910e-01,\n",
       "          -1.51560566e-01,  -1.46555021e-01,  -1.41553146e-01,\n",
       "          -1.36554810e-01,  -1.31559883e-01,  -1.26568236e-01,\n",
       "          -1.21579741e-01,  -1.16594270e-01,  -1.11611695e-01,\n",
       "          -1.06631890e-01,  -1.01654727e-01,  -9.66800810e-02,\n",
       "          -9.17078267e-02,  -8.67378386e-02,  -8.17699921e-02,\n",
       "          -7.68041629e-02,  -7.18402269e-02,  -6.68780605e-02,\n",
       "          -6.19175402e-02,  -5.69585432e-02,  -5.20009464e-02,\n",
       "          -4.70446274e-02,  -4.20894637e-02,  -3.71353333e-02,\n",
       "          -3.21821142e-02,  -2.72296845e-02,  -2.22779226e-02,\n",
       "          -1.73267069e-02,  -1.23759159e-02,  -7.42542823e-03,\n",
       "          -2.47512252e-03,   2.47512252e-03,   7.42542823e-03,\n",
       "           1.23759159e-02,   1.73267069e-02,   2.22779226e-02,\n",
       "           2.72296845e-02,   3.21821142e-02,   3.71353333e-02,\n",
       "           4.20894637e-02,   4.70446274e-02,   5.20009464e-02,\n",
       "           5.69585432e-02,   6.19175402e-02,   6.68780605e-02,\n",
       "           7.18402269e-02,   7.68041629e-02,   8.17699921e-02,\n",
       "           8.67378386e-02,   9.17078267e-02,   9.66800810e-02,\n",
       "           1.01654727e-01,   1.06631890e-01,   1.11611695e-01,\n",
       "           1.16594270e-01,   1.21579741e-01,   1.26568236e-01,\n",
       "           1.31559883e-01,   1.36554810e-01,   1.41553146e-01,\n",
       "           1.46555021e-01,   1.51560566e-01,   1.56569910e-01,\n",
       "           1.61583187e-01,   1.66600528e-01,   1.71622067e-01,\n",
       "           1.76647937e-01,   1.81678273e-01,   1.86713211e-01,\n",
       "           1.91752886e-01,   1.96797436e-01,   2.01846999e-01,\n",
       "           2.06901715e-01,   2.11961722e-01,   2.17027162e-01,\n",
       "           2.22098177e-01,   2.27174909e-01,   2.32257504e-01,\n",
       "           2.37346105e-01,   2.42440860e-01,   2.47541915e-01,\n",
       "           2.52649420e-01,   2.57763524e-01,   2.62884379e-01,\n",
       "           2.68012137e-01,   2.73146951e-01,   2.78288978e-01,\n",
       "           2.83438373e-01,   2.88595295e-01,   2.93759903e-01,\n",
       "           2.98932359e-01,   3.04112825e-01,   3.09301466e-01,\n",
       "           3.14498447e-01,   3.19703936e-01,   3.24918102e-01,\n",
       "           3.30141118e-01,   3.35373155e-01,   3.40614389e-01,\n",
       "           3.45864997e-01,   3.51125157e-01,   3.56395050e-01,\n",
       "           3.61674861e-01,   3.66964772e-01,   3.72264973e-01,\n",
       "           3.77575652e-01,   3.82897001e-01,   3.88229215e-01,\n",
       "           3.93572490e-01,   3.98927026e-01,   4.04293024e-01,\n",
       "           4.09670688e-01,   4.15060226e-01,   4.20461848e-01,\n",
       "           4.25875766e-01,   4.31302195e-01,   4.36741354e-01,\n",
       "           4.42193465e-01,   4.47658752e-01,   4.53137444e-01,\n",
       "           4.58629771e-01,   4.64135967e-01,   4.69656272e-01,\n",
       "           4.75190926e-01,   4.80740175e-01,   4.86304268e-01,\n",
       "           4.91883457e-01,   4.97477999e-01,   5.03088156e-01,\n",
       "           5.08714191e-01,   5.14356375e-01,   5.20014981e-01,\n",
       "           5.25690287e-01,   5.31382576e-01,   5.37092135e-01,\n",
       "           5.42819257e-01,   5.48564239e-01,   5.54327383e-01,\n",
       "           5.60108998e-01,   5.65909397e-01,   5.71728899e-01,\n",
       "           5.77567828e-01,   5.83426515e-01,   5.89305296e-01,\n",
       "           5.95204515e-01,   6.01124520e-01,   6.07065669e-01,\n",
       "           6.13028323e-01,   6.19012852e-01,   6.25019633e-01,\n",
       "           6.31049052e-01,   6.37101499e-01,   6.43177375e-01,\n",
       "           6.49277088e-01,   6.55401055e-01,   6.61549701e-01,\n",
       "           6.67723460e-01,   6.73922775e-01,   6.80148098e-01,\n",
       "           6.86399893e-01,   6.92678632e-01,   6.98984797e-01,\n",
       "           7.05318883e-01,   7.11681394e-01,   7.18072847e-01,\n",
       "           7.24493769e-01,   7.30944700e-01,   7.37426194e-01,\n",
       "           7.43938816e-01,   7.50483145e-01,   7.57059776e-01,\n",
       "           7.63669315e-01,   7.70312386e-01,   7.76989626e-01,\n",
       "           7.83701690e-01,   7.90449248e-01,   7.97232988e-01,\n",
       "           8.04053616e-01,   8.10911857e-01,   8.17808453e-01,\n",
       "           8.24744168e-01,   8.31719785e-01,   8.38736110e-01,\n",
       "           8.45793969e-01,   8.52894215e-01,   8.60037720e-01,\n",
       "           8.67225385e-01,   8.74458134e-01,   8.81736921e-01,\n",
       "           8.89062726e-01,   8.96436557e-01,   9.03859457e-01,\n",
       "           9.11332495e-01,   9.18856778e-01,   9.26433446e-01,\n",
       "           9.34063672e-01,   9.41748672e-01,   9.49489697e-01,\n",
       "           9.57288042e-01,   9.65145042e-01,   9.73062080e-01,\n",
       "           9.81040583e-01,   9.89082030e-01,   9.97187950e-01,\n",
       "           1.00535993e+00,   1.01359960e+00,   1.02190867e+00,\n",
       "           1.03028890e+00,   1.03874212e+00,   1.04727022e+00,\n",
       "           1.05587517e+00,   1.06455903e+00,   1.07332392e+00,\n",
       "           1.08217204e+00,   1.09110572e+00,   1.10012733e+00,\n",
       "           1.10923938e+00,   1.11844448e+00,   1.12774533e+00,\n",
       "           1.13714478e+00,   1.14664578e+00,   1.15625143e+00,\n",
       "           1.16596497e+00,   1.17578979e+00,   1.18572943e+00,\n",
       "           1.19578762e+00,   1.20596826e+00,   1.21627546e+00,\n",
       "           1.22671351e+00,   1.23728696e+00,   1.24800057e+00,\n",
       "           1.25885938e+00,   1.26986869e+00,   1.28103411e+00,\n",
       "           1.29236155e+00,   1.30385728e+00,   1.31552796e+00,\n",
       "           1.32738062e+00,   1.33942275e+00,   1.35166231e+00,\n",
       "           1.36410778e+00,   1.37676820e+00,   1.38965322e+00,\n",
       "           1.40277318e+00,   1.41613915e+00,   1.42976302e+00,\n",
       "           1.44365756e+00,   1.45783653e+00,   1.47231481e+00,\n",
       "           1.48710847e+00,   1.50223493e+00,   1.51771316e+00,\n",
       "           1.53356377e+00,   1.54980933e+00,   1.56647453e+00,\n",
       "           1.58358651e+00,   1.60117517e+00,   1.61927361e+00,\n",
       "           1.63791855e+00,   1.65715093e+00,   1.67701655e+00,\n",
       "           1.69756695e+00,   1.71886034e+00,   1.74096288e+00,\n",
       "           1.76395019e+00,   1.78790928e+00,   1.81294098e+00,\n",
       "           1.83916307e+00,   1.86671438e+00,   1.89576017e+00,\n",
       "           1.92649942e+00,   1.95917475e+00,   1.99408648e+00,\n",
       "           2.03161265e+00,   2.07223893e+00,   2.11660431e+00,\n",
       "           2.16557440e+00,   2.22036495e+00,   2.28276382e+00,\n",
       "           2.35556494e+00,   2.44351800e+00,   2.55577619e+00,\n",
       "           2.71411028e+00,   2.99573567e+00]),\n",
       "  array([ -1.55794610e+01,  -1.06109893e+01,  -1.04487027e+01,\n",
       "          -1.03113730e+01,  -7.83300008e+00,  -7.57647773e+00,\n",
       "          -7.20017588e+00,  -7.07771522e+00,  -6.94308350e+00,\n",
       "          -6.92593282e+00,  -6.86557584e+00,  -6.78790318e+00,\n",
       "          -6.69254951e+00,  -6.67461484e+00,  -6.63742401e+00,\n",
       "          -6.61480679e+00,  -6.48492755e+00,  -6.44501726e+00,\n",
       "          -6.41972222e+00,  -6.28704097e+00,  -6.16933235e+00,\n",
       "          -6.15461066e+00,  -6.13407332e+00,  -6.11998048e+00,\n",
       "          -6.04564780e+00,  -6.00821269e+00,  -5.97325183e+00,\n",
       "          -5.84759861e+00,  -5.82635521e+00,  -5.71732164e+00,\n",
       "          -5.54915396e+00,  -5.52342294e+00,  -5.47488389e+00,\n",
       "          -5.44913647e+00,  -5.41597825e+00,  -5.40283795e+00,\n",
       "          -5.35997992e+00,  -5.35994642e+00,  -5.29132150e+00,\n",
       "          -5.24511052e+00,  -5.19709480e+00,  -5.19189704e+00,\n",
       "          -5.15412919e+00,  -5.12999168e+00,  -5.01099424e+00,\n",
       "          -5.00151500e+00,  -4.93602979e+00,  -4.91755469e+00,\n",
       "          -4.91674397e+00,  -4.89129701e+00,  -4.88949211e+00,\n",
       "          -4.82575267e+00,  -4.78429024e+00,  -4.73938379e+00,\n",
       "          -4.72735376e+00,  -4.69282707e+00,  -4.67833186e+00,\n",
       "          -4.64086508e+00,  -4.60387482e+00,  -4.57541577e+00,\n",
       "          -4.56645496e+00,  -4.54203283e+00,  -4.52127354e+00,\n",
       "          -4.50725436e+00,  -4.49454145e+00,  -4.47985184e+00,\n",
       "          -4.35647433e+00,  -4.34343769e+00,  -4.23926602e+00,\n",
       "          -4.21307203e+00,  -4.20079737e+00,  -4.12983844e+00,\n",
       "          -4.11386352e+00,  -4.08668003e+00,  -4.03123608e+00,\n",
       "          -3.99582660e+00,  -3.95002201e+00,  -3.94079584e+00,\n",
       "          -3.93374181e+00,  -3.92620066e+00,  -3.91516860e+00,\n",
       "          -3.88485442e+00,  -3.84518524e+00,  -3.83465914e+00,\n",
       "          -3.82835689e+00,  -3.80610125e+00,  -3.72934247e+00,\n",
       "          -3.72652691e+00,  -3.71110647e+00,  -3.70241209e+00,\n",
       "          -3.69685664e+00,  -3.66764235e+00,  -3.64446671e+00,\n",
       "          -3.63277547e+00,  -3.57064813e+00,  -3.55900412e+00,\n",
       "          -3.50752251e+00,  -3.47621248e+00,  -3.44211691e+00,\n",
       "          -3.42986060e+00,  -3.42444386e+00,  -3.41860458e+00,\n",
       "          -3.41503231e+00,  -3.40034494e+00,  -3.37743546e+00,\n",
       "          -3.33038218e+00,  -3.30749026e+00,  -3.29388439e+00,\n",
       "          -3.25609561e+00,  -3.22573568e+00,  -3.16750301e+00,\n",
       "          -3.09734716e+00,  -3.08238543e+00,  -3.04088054e+00,\n",
       "          -2.94823519e+00,  -2.90852699e+00,  -2.89662601e+00,\n",
       "          -2.89292932e+00,  -2.88766667e+00,  -2.84791346e+00,\n",
       "          -2.83046343e+00,  -2.80150945e+00,  -2.79765427e+00,\n",
       "          -2.76975577e+00,  -2.73834861e+00,  -2.73687139e+00,\n",
       "          -2.72985456e+00,  -2.71297469e+00,  -2.70597451e+00,\n",
       "          -2.70039379e+00,  -2.68970854e+00,  -2.65853521e+00,\n",
       "          -2.65271013e+00,  -2.62803874e+00,  -2.61513625e+00,\n",
       "          -2.60326834e+00,  -2.59091112e+00,  -2.57076758e+00,\n",
       "          -2.56106095e+00,  -2.50881381e+00,  -2.48108106e+00,\n",
       "          -2.47392951e+00,  -2.47255605e+00,  -2.46441773e+00,\n",
       "          -2.46133385e+00,  -2.44615580e+00,  -2.41835359e+00,\n",
       "          -2.41141951e+00,  -2.36639271e+00,  -2.36568546e+00,\n",
       "          -2.35007844e+00,  -2.34216285e+00,  -2.27173661e+00,\n",
       "          -2.26694529e+00,  -2.26145104e+00,  -2.24893735e+00,\n",
       "          -2.22614937e+00,  -2.21101472e+00,  -2.17862521e+00,\n",
       "          -2.17432006e+00,  -2.17336772e+00,  -2.16152125e+00,\n",
       "          -2.15843485e+00,  -2.13453760e+00,  -2.13225886e+00,\n",
       "          -2.12736520e+00,  -2.12427933e+00,  -2.11123204e+00,\n",
       "          -2.11105226e+00,  -2.11022671e+00,  -2.09875684e+00,\n",
       "          -2.07709054e+00,  -2.07145523e+00,  -2.01546432e+00,\n",
       "          -2.00551341e+00,  -1.97440554e+00,  -1.92416035e+00,\n",
       "          -1.91878941e+00,  -1.87636041e+00,  -1.83224597e+00,\n",
       "          -1.80004807e+00,  -1.79311197e+00,  -1.78798090e+00,\n",
       "          -1.77869798e+00,  -1.77143049e+00,  -1.76342111e+00,\n",
       "          -1.76275612e+00,  -1.74438953e+00,  -1.74311742e+00,\n",
       "          -1.68337323e+00,  -1.68327609e+00,  -1.65306588e+00,\n",
       "          -1.59237490e+00,  -1.58615723e+00,  -1.58259372e+00,\n",
       "          -1.56843662e+00,  -1.56593919e+00,  -1.53690634e+00,\n",
       "          -1.51017111e+00,  -1.49378139e+00,  -1.48526739e+00,\n",
       "          -1.43614022e+00,  -1.42696242e+00,  -1.42071320e+00,\n",
       "          -1.40911570e+00,  -1.33536350e+00,  -1.32351225e+00,\n",
       "          -1.26658017e+00,  -1.25359323e+00,  -1.23807246e+00,\n",
       "          -1.22260592e+00,  -1.21897655e+00,  -1.20841512e+00,\n",
       "          -1.20344878e+00,  -1.19291889e+00,  -1.19241207e+00,\n",
       "          -1.19187594e+00,  -1.17882319e+00,  -1.16439137e+00,\n",
       "          -1.14518512e+00,  -1.13261729e+00,  -1.08826131e+00,\n",
       "          -1.08570454e+00,  -1.08379570e+00,  -1.01892210e+00,\n",
       "          -1.01459912e+00,  -1.01173020e+00,  -1.01157117e+00,\n",
       "          -1.00865729e+00,  -1.00349174e+00,  -9.55242174e-01,\n",
       "          -9.54023399e-01,  -9.38284433e-01,  -8.85861304e-01,\n",
       "          -8.59364673e-01,  -8.53491963e-01,  -8.36519590e-01,\n",
       "          -8.08255342e-01,  -7.99319690e-01,  -7.97697035e-01,\n",
       "          -7.84554664e-01,  -7.56778235e-01,  -7.24670996e-01,\n",
       "          -6.98556119e-01,  -6.95350660e-01,  -6.82096563e-01,\n",
       "          -6.60757096e-01,  -6.52108797e-01,  -6.44795192e-01,\n",
       "          -6.29348907e-01,  -5.58262157e-01,  -5.54230662e-01,\n",
       "          -5.20223118e-01,  -5.12708138e-01,  -4.99037441e-01,\n",
       "          -4.81214265e-01,  -4.70522032e-01,  -4.68206028e-01,\n",
       "          -4.24674175e-01,  -4.06999367e-01,  -3.77154499e-01,\n",
       "          -3.70009771e-01,  -3.49349494e-01,  -3.41798355e-01,\n",
       "          -3.41068242e-01,  -3.34249061e-01,  -3.25720195e-01,\n",
       "          -2.74941223e-01,  -2.69753352e-01,  -2.69161758e-01,\n",
       "          -2.63951546e-01,  -2.61155281e-01,  -2.42015338e-01,\n",
       "          -2.34537805e-01,  -2.25067052e-01,  -2.12602620e-01,\n",
       "          -2.07816357e-01,  -2.03085863e-01,  -1.90971317e-01,\n",
       "          -1.90643515e-01,  -1.88762404e-01,  -1.84783212e-01,\n",
       "          -1.62759507e-01,  -1.58787464e-01,  -1.19487412e-01,\n",
       "          -1.05586470e-01,  -1.04339941e-01,  -9.72074095e-02,\n",
       "          -9.23887977e-02,  -8.36673082e-02,  -7.70813834e-02,\n",
       "          -6.81637420e-02,  -6.43254889e-02,  -5.88463520e-02,\n",
       "          -4.49059486e-02,  -2.46822319e-02,  -1.98148310e-02,\n",
       "           4.79403770e-03,   1.63745433e-02,   5.14622246e-02,\n",
       "           6.02604148e-02,   6.79776135e-02,   7.04728399e-02,\n",
       "           7.97558587e-02,   8.80714949e-02,   9.35342804e-02,\n",
       "           1.01363929e-01,   1.10691396e-01,   1.19751980e-01,\n",
       "           1.26900546e-01,   1.36511091e-01,   1.85936163e-01,\n",
       "           1.86937120e-01,   1.93962076e-01,   2.08301073e-01,\n",
       "           2.42504502e-01,   2.62925428e-01,   2.65535193e-01,\n",
       "           2.68875810e-01,   3.01232056e-01,   3.30729274e-01,\n",
       "           3.41975565e-01,   3.51976378e-01,   3.83881817e-01,\n",
       "           4.34888989e-01,   4.57095495e-01,   4.81911321e-01,\n",
       "           4.86993833e-01,   5.00530508e-01,   5.20835501e-01,\n",
       "           5.90325101e-01,   5.99998256e-01,   6.01519327e-01,\n",
       "           6.04452704e-01,   6.37940962e-01,   6.58789511e-01,\n",
       "           6.64019038e-01,   6.68219322e-01,   6.85146149e-01,\n",
       "           6.96316828e-01,   7.15794308e-01,   7.16011898e-01,\n",
       "           7.17553923e-01,   7.48893611e-01,   7.55581223e-01,\n",
       "           7.94651488e-01,   8.27964625e-01,   8.38322710e-01,\n",
       "           8.44640693e-01,   8.82414962e-01,   9.04561434e-01,\n",
       "           9.06137851e-01,   9.36992356e-01,   9.48845321e-01,\n",
       "           9.53429369e-01,   9.60280317e-01,   9.79406257e-01,\n",
       "           1.01973930e+00,   1.05254651e+00,   1.06703459e+00,\n",
       "           1.07959546e+00,   1.08249686e+00,   1.08735161e+00,\n",
       "           1.10680947e+00,   1.13741171e+00,   1.15094710e+00,\n",
       "           1.17269903e+00,   1.25193175e+00,   1.27006425e+00,\n",
       "           1.29982987e+00,   1.35217066e+00,   1.42372067e+00,\n",
       "           1.49093142e+00,   1.50274195e+00,   1.50568299e+00,\n",
       "           1.52240328e+00,   1.52541964e+00,   1.71805609e+00,\n",
       "           1.77728787e+00,   1.78505843e+00,   1.79184341e+00,\n",
       "           1.92895435e+00,   2.02381163e+00,   2.11283371e+00,\n",
       "           2.12203518e+00,   2.12414319e+00,   2.16284397e+00,\n",
       "           2.19143429e+00,   2.23847757e+00,   2.25860276e+00,\n",
       "           2.27988013e+00,   2.31427389e+00,   2.33908981e+00,\n",
       "           2.35228423e+00,   2.37125477e+00,   2.41721739e+00,\n",
       "           2.43918794e+00,   2.45055902e+00,   2.57110007e+00,\n",
       "           2.57284641e+00,   2.63172583e+00,   2.63994228e+00,\n",
       "           2.65404996e+00,   2.86048275e+00,   2.88025748e+00,\n",
       "           2.89643051e+00,   2.89771215e+00,   2.91937622e+00,\n",
       "           2.92053214e+00,   2.93598966e+00,   2.99127582e+00,\n",
       "           3.07592892e+00,   3.21395396e+00,   3.33768636e+00,\n",
       "           3.40108490e+00,   3.44059952e+00,   3.45496907e+00,\n",
       "           3.47959779e+00,   3.50348256e+00,   3.51648923e+00,\n",
       "           3.54010868e+00,   3.55527668e+00,   3.56996830e+00,\n",
       "           3.65631836e+00,   3.67875712e+00,   3.75064846e+00,\n",
       "           3.82100029e+00,   3.87700453e+00,   3.88964557e+00,\n",
       "           4.00725970e+00,   4.01007101e+00,   4.02932589e+00,\n",
       "           4.12976830e+00,   4.16219056e+00,   4.18231192e+00,\n",
       "           4.22927930e+00,   4.25182997e+00,   4.27670620e+00,\n",
       "           4.28344419e+00,   4.36096886e+00,   4.41158334e+00,\n",
       "           4.44174832e+00,   4.45366533e+00,   4.48883737e+00,\n",
       "           4.64564705e+00,   4.66086590e+00,   4.68290903e+00,\n",
       "           4.69933044e+00,   4.79185945e+00,   4.80723772e+00,\n",
       "           4.83432317e+00,   4.98303461e+00,   5.07903513e+00,\n",
       "           5.10304787e+00,   5.22937377e+00,   5.29823802e+00,\n",
       "           5.32660077e+00,   5.52353515e+00,   5.65961364e+00,\n",
       "           5.68982756e+00,   5.90964935e+00,   5.93703626e+00,\n",
       "           6.09036071e+00,   6.21951965e+00,   6.23942334e+00,\n",
       "           6.36302852e+00,   6.43394368e+00,   6.47120389e+00,\n",
       "           6.48948619e+00,   6.60315192e+00,   6.70540643e+00,\n",
       "           6.81417278e+00,   7.56524420e+00,   7.66488588e+00,\n",
       "           7.67914272e+00,   7.81763620e+00,   7.91436285e+00,\n",
       "           8.03364779e+00,   8.09034488e+00,   8.14877729e+00,\n",
       "           8.25711768e+00,   8.43207267e+00,   8.68730485e+00,\n",
       "           9.15725397e+00,   9.16743798e+00,   9.43384467e+00,\n",
       "           9.62931597e+00,   1.01928354e+01,   1.04165603e+01,\n",
       "           1.11426273e+01,   1.12495174e+01,   1.12830093e+01,\n",
       "           1.22717418e+01,   1.25939884e+01,   1.27933781e+01,\n",
       "           1.28623702e+01,   1.30197887e+01,   1.32082742e+01,\n",
       "           1.32188861e+01,   1.41186828e+01,   1.53883660e+01,\n",
       "           1.62065259e+01,   1.73521284e+01,   2.39974028e+01,\n",
       "           2.50539590e+01,   2.61886501e+01])),\n",
       " (4.4568597454452048, -2.0220979041394157e-15, 0.94762914118317765))"
      ]
     },
     "execution_count": 16,
     "metadata": {},
     "output_type": "execute_result"
    },
    {
     "data": {
      "image/png": "[encoded data removed]",
      "text/plain": [
       "<matplotlib.figure.Figure at 0x9cdf9b0>"
      ]
     },
     "metadata": {},
     "output_type": "display_data"
    }
   ],
   "source": [
    "from scipy.stats import probplot\n",
    "f = plt.figure(figsize=(7, 5))\n",
    "ax = f.add_subplot(111)\n",
    "probplot(boston.target - prediction, plot=ax)"
   ]
  },
  {
   "cell_type": "markdown",
   "metadata": {},
   "source": [
    "这个图里面倾斜的数据比之前看的要更清楚一些。\n",
    "我们还可以观察拟合其他量度，最常用的还有均方误差（mean squared error，\n",
    "MSE），平均绝对误差（mean absolute deviation，MAD）。让我们用Python实现\n",
    "这两个量度。后面我们用scikit-learn内置的量度来评估回归模型的效果："
   ]
  },
  {
   "cell_type": "code",
   "execution_count": 17,
   "metadata": {
    "collapsed": true
   },
   "outputs": [],
   "source": [
    "def MSE(target, predictions):\n",
    "    squared_deviation = np.power(target - predictions, 2)\n",
    "    return np.mean(squared_deviation)"
   ]
  },
  {
   "cell_type": "code",
   "execution_count": 19,
   "metadata": {
    "collapsed": false
   },
   "outputs": [
    {
     "data": {
      "text/plain": [
       "21.897779217687496"
      ]
     },
     "execution_count": 19,
     "metadata": {},
     "output_type": "execute_result"
    }
   ],
   "source": [
    "MSE(boston.target, prediction)"
   ]
  },
  {
   "cell_type": "markdown",
   "metadata": {},
   "source": [
    "### How it works...\n",
    "MSE的计算公式是：\n",
    "$$E(\\hat y_t - y_i)^2$$\n",
    "计算预测值与实际值的差，平方之后再求平均值。这其实就是我们寻找最佳相关系\n",
    "数时是目标。高斯－马尔可夫定理（Gauss-Markov theorem）实际上已经证明了\n",
    "线性回归的回归系数的最佳线性无偏估计（BLUE）就是最小均方误差的无偏估计\n",
    "（条件是误差变量不相关，0均值，同方差）。在用岭回归弥补线性回归的不足主\n",
    "题中，我们会看到，当我们的相关系数是有偏估计时会发生什么。\n",
    "MAD是平均绝对误差，计算公式为：\n",
    "$$E|\\hat y_t - y_i|$$\n",
    "线性回归的时候MAD通常不用，但是值得一看。为什么呢？可以看到每个量度的情\n",
    "况，还可以判断哪个量度更重要。例如，用MSE，较大的误差会获得更大的惩罚，\n",
    "因为平方把它放大。\n",
    "### There's more...\n",
    "还有一点需要说明，那就是相关系数是随机变量，因此它们是有分布的。让我们用\n",
    "bootstrapping（重复试验）来看看犯罪率的相关系数的分布情况。bootstrapping是\n",
    "一种学习参数估计不确定性的常用手段："
   ]
  },
  {
   "cell_type": "code",
   "execution_count": 21,
   "metadata": {
    "collapsed": false
   },
   "outputs": [
    {
     "data": {
      "text/plain": [
       "<matplotlib.text.Text at 0xb39f0b8>"
      ]
     },
     "execution_count": 21,
     "metadata": {},
     "output_type": "execute_result"
    },
    {
     "data": {
      "image/png": "[encoded data removed]",
      "text/plain": [
       "<matplotlib.figure.Figure at 0x95c9198>"
      ]
     },
     "metadata": {},
     "output_type": "display_data"
    }
   ],
   "source": [
    "n_bootstraps = 1000\n",
    "len_boston = len(boston.target)\n",
    "subsample_size = np.int(0.5*len_boston)\n",
    "subsample = lambda: np.random.choice(np.arange(0, len_boston),size=subsample_size)\n",
    "coefs = np.ones(n_bootstraps) #相关系数初始值设为1\n",
    "for i in range(n_bootstraps):\n",
    "    subsample_idx = subsample()\n",
    "    subsample_X = boston.data[subsample_idx]\n",
    "    subsample_y = boston.target[subsample_idx]\n",
    "    lr.fit(subsample_X, subsample_y)\n",
    "    coefs[i] = lr.coef_[0]\n",
    "f = plt.figure(figsize=(7, 5))\n",
    "ax = f.add_subplot(111)\n",
    "ax.hist(coefs, bins=50, color='b', alpha=.5)\n",
    "ax.set_title(\"Histogram of the lr.coef_[0].\")"
   ]
  },
  {
   "cell_type": "markdown",
   "metadata": {},
   "source": [
    "我们还想看看重复试验后的置信区间："
   ]
  },
  {
   "cell_type": "code",
   "execution_count": 22,
   "metadata": {
    "collapsed": false
   },
   "outputs": [
    {
     "data": {
      "text/plain": [
       "array([-0.19161442,  0.04642102])"
      ]
     },
     "execution_count": 22,
     "metadata": {},
     "output_type": "execute_result"
    }
   ],
   "source": [
    "np.percentile(coefs, [2.5, 97.5])"
   ]
  },
  {
   "cell_type": "markdown",
   "metadata": {},
   "source": [
    "置信区间的范围表面犯罪率其实不影响房价，因为0在置信区间里面，表面犯罪率\n",
    "可能与房价无关。\n",
    "值得一提的是，bootstrapping可以获得更好的相关系数估计值，因为使用\n",
    "bootstrapping方法的均值，会比普通估计方法更快地收敛（converge）到真实均\n",
    "值。"
   ]
  },
  {
   "cell_type": "markdown",
   "metadata": {},
   "source": [
    "## 用岭回归弥补线性回归的不足"
   ]
  },
  {
   "cell_type": "markdown",
   "metadata": {},
   "source": [
    "本主题将介绍岭回归。和线性回归不同，它引入了正则化参数来“缩减”相关系数。\n",
    "当数据集中存在共线因素时，岭回归会很有用。\n",
    "### Getting ready\n",
    "让我们加载一个不满秩（low effective rank）数据集来比较岭回归和线性回归。秩\n",
    "是矩阵线性无关组的数量，满秩是指一个$m \\times n$矩阵中行向量或列向量中现\n",
    "行无关组的数量等于$min(m,n)$。\n",
    "### How to do it...\n",
    "首先我们用 make_regression 建一个有3个自变量的数据集，但是其秩为2，因此\n",
    "3个自变量中有两个自变量存在相关性。"
   ]
  },
  {
   "cell_type": "code",
   "execution_count": 27,
   "metadata": {
    "collapsed": false
   },
   "outputs": [],
   "source": [
    "from sklearn.datasets import make_regression\n",
    "reg_data, reg_target = make_regression(n_samples=2000, n_features=3, effective_rank=2, noise=10)"
   ]
  },
  {
   "cell_type": "markdown",
   "metadata": {},
   "source": [
    "首先，我们用普通的线性回归拟合："
   ]
  },
  {
   "cell_type": "code",
   "execution_count": 30,
   "metadata": {
    "collapsed": false
   },
   "outputs": [
    {
     "data": {
      "image/png": "[encoded data removed]",
      "text/plain": [
       "<matplotlib.figure.Figure at 0xb5ba9e8>"
      ]
     },
     "metadata": {},
     "output_type": "display_data"
    }
   ],
   "source": [
    "import numpy as np\n",
    "from sklearn.linear_model import LinearRegression\n",
    "lr = LinearRegression()\n",
    "\n",
    "def fit_2_regression(lr):\n",
    "    n_bootstraps = 1000\n",
    "    coefs = np.ones((n_bootstraps,3))\n",
    "    len_data = len(reg_data)\n",
    "    subsample = lambda: np.random.choice(np.arange(0, len_data), size=subsample_size)\n",
    "    \n",
    "    for i in range(n_bootstraps):\n",
    "        subsample_idx = subsample()\n",
    "        subsample_X = reg_data[subsample_idx]\n",
    "        subsample_y = reg_target[subsample_idx]\n",
    "        lr.fit(subsample_X, subsample_y)\n",
    "        coefs[i][0] = lr.coef_[0]\n",
    "        coefs[i][1] = lr.coef_[1]\n",
    "        coefs[i][2] = lr.coef_[2]\n",
    "    %matplotlib inline\n",
    "    import matplotlib.pyplot as plt\n",
    "    f, axes = plt.subplots(nrows=3, sharey=True, sharex=True, figsize=(7, 5))\n",
    "    f.tight_layout()\n",
    "    \n",
    "    for i , ax in enumerate(axes):\n",
    "        ax.hist(coefs[:, i], color='b', alpha=.5)\n",
    "        ax.set_title('Coef {}'.format(i))\n",
    "    return coefs\n",
    "\n",
    "coefs = fit_2_regression(lr)"
   ]
  },
  {
   "cell_type": "markdown",
   "metadata": {},
   "source": [
    "我们再用 Ridge 来拟合数据，对比结果："
   ]
  },
  {
   "cell_type": "code",
   "execution_count": 31,
   "metadata": {
    "collapsed": false
   },
   "outputs": [
    {
     "data": {
      "image/png": "[encoded data removed]",
      "text/plain": [
       "<matplotlib.figure.Figure at 0xb512128>"
      ]
     },
     "metadata": {},
     "output_type": "display_data"
    }
   ],
   "source": [
    "from sklearn.linear_model import Ridge\n",
    "coefs_r = fit_2_regression(Ridge())"
   ]
  },
  {
   "cell_type": "markdown",
   "metadata": {},
   "source": [
    "两个回归算法的结果看着好像差不多，其实不然。岭回归的相关系数更接近0。让\n",
    "我们看看两者相关系数的差异："
   ]
  },
  {
   "cell_type": "code",
   "execution_count": 33,
   "metadata": {
    "collapsed": false
   },
   "outputs": [
    {
     "data": {
      "text/plain": [
       "array([ 12.87048842,  65.11694794,  55.43529134])"
      ]
     },
     "execution_count": 33,
     "metadata": {},
     "output_type": "execute_result"
    }
   ],
   "source": [
    "np.mean(coefs - coefs_r, axis=0)"
   ]
  },
  {
   "cell_type": "markdown",
   "metadata": {},
   "source": [
    "从均值上看，线性回归比岭回归的相关系数要更很多。均值显示的差异其实是线性\n",
    "回归的相关系数隐含的偏差。那么，岭回归究竟有什么好处呢？让我们再看看相关\n",
    "系数的方差："
   ]
  },
  {
   "cell_type": "code",
   "execution_count": 34,
   "metadata": {
    "collapsed": false
   },
   "outputs": [
    {
     "data": {
      "text/plain": [
       "array([ 1831.77777202,  1061.15709712,  1054.64645398])"
      ]
     },
     "execution_count": 34,
     "metadata": {},
     "output_type": "execute_result"
    }
   ],
   "source": [
    "np.var(coefs, axis=0)"
   ]
  },
  {
   "cell_type": "code",
   "execution_count": 35,
   "metadata": {
    "collapsed": false
   },
   "outputs": [
    {
     "data": {
      "text/plain": [
       "array([  5.11955779,  10.10579289,   8.32239331])"
      ]
     },
     "execution_count": 35,
     "metadata": {},
     "output_type": "execute_result"
    }
   ],
   "source": [
    "np.var(coefs_r, axis=0)"
   ]
  },
  {
   "cell_type": "markdown",
   "metadata": {},
   "source": [
    "岭回归的相关系数方差也会小很多。这就是机器学习里著名的偏差-方差均衡(Bias-\n",
    "Variance Trade-off)。下一个主题我们将介绍如何调整岭回归的参数正则化，那是\n",
    "偏差-方差均衡的核心内容。\n",
    "### How it works...\n",
    "介绍参数正则化之前，我们总结一下岭回归与线性回归的不同。前面介绍过，线性\n",
    "回归的目标是最小化 $ {\\begin{Vmatrix} \\hat y - X \\beta \\end{Vmatrix}}^2 $。\n",
    "岭回归的目标是最小化 $ {\\begin{Vmatrix} \\hat y - X \\beta \\end{Vmatrix}}^2 +\n",
    "{\\begin{Vmatrix} \\Gamma X \\end{Vmatrix}}^2 $。\n",
    "其中，$\\Gamma$就是岭回归 Ridge 的 alpha 参数，指单位矩阵的倍数。上面\n",
    "的例子用的是默认值。我们可以看看岭回归参数："
   ]
  },
  {
   "cell_type": "code",
   "execution_count": 36,
   "metadata": {
    "collapsed": false
   },
   "outputs": [
    {
     "data": {
      "text/plain": [
       "Ridge(alpha=1.0, copy_X=True, fit_intercept=True, max_iter=None,\n",
       "   normalize=False, random_state=None, solver='auto', tol=0.001)"
      ]
     },
     "execution_count": 36,
     "metadata": {},
     "output_type": "execute_result"
    }
   ],
   "source": [
    "Ridge()"
   ]
  },
  {
   "cell_type": "markdown",
   "metadata": {},
   "source": [
    "前面的一半和线性回归的相关系数的解是一样的，多了$\\Gamma ^ T \\Gamma)$一\n",
    "项。矩阵$A$的$AA^T$的结果是对称矩阵，且是半正定矩阵（对任意非0向量\n",
    "$x$，有$x^TAx \\ge 0$）。相当于在线性回归的目标函数分母部分增加了一个很大\n",
    "的数。这样就把相关系数挤向0了。这样的解释比较粗糙，要深入了解，建议你看\n",
    "看SVD（矩阵奇异值分解）与岭回归的关系。"
   ]
  },
  {
   "cell_type": "markdown",
   "metadata": {},
   "source": [
    "## 优化岭回归参数"
   ]
  },
  {
   "cell_type": "markdown",
   "metadata": {},
   "source": [
    "当你使用岭回归模型进行建模时，需要考虑 Ridge 的 alpha 参数。\n",
    "例如，用OLS（普通最小二乘法）做回归也许可以显示两个变量之间的某些关系；\n",
    "但是，当 alpha 参数正则化之后，那些关系就会消失。做决策时，这些关系是否\n",
    "需要考虑就显得很重要了。\n",
    "### Getting ready\n",
    "这是我们第一个进行模型参数优化的主题，通常用交叉检验（cross validation）完\n",
    "成。在后面的主题中，还会有更简便的方式实现这些，但是这里我们一步一步来实\n",
    "现岭回归的优化。\n",
    "在scikit-learn里面，岭回归的$\\Gamma$参数就\n",
    "是 RidgeRegression 的 alpha 参数；因此，问题就是最优的 alpha 参数是什\n",
    "么。首先我们建立回归数据集："
   ]
  },
  {
   "cell_type": "code",
   "execution_count": 38,
   "metadata": {
    "collapsed": false
   },
   "outputs": [],
   "source": [
    "from sklearn.datasets import make_regression\n",
    "reg_data, reg_target = make_regression(n_samples=100, n_features=2, effective_rank=1, noise=10)"
   ]
  },
  {
   "cell_type": "code",
   "execution_count": 39,
   "metadata": {
    "collapsed": false
   },
   "outputs": [
    {
     "data": {
      "text/plain": [
       "RidgeCV(alphas=array([ 0.1,  0.2,  0.3,  0.4]), cv=None, fit_intercept=True,\n",
       "    gcv_mode=None, normalize=False, scoring=None, store_cv_values=False)"
      ]
     },
     "execution_count": 39,
     "metadata": {},
     "output_type": "execute_result"
    }
   ],
   "source": [
    "import numpy as np\n",
    "from sklearn.linear_model import RidgeCV\n",
    "rcv = RidgeCV(alphas=np.array([.1, .2, .3, .4]))\n",
    "rcv.fit(reg_data, reg_target)"
   ]
  },
  {
   "cell_type": "markdown",
   "metadata": {},
   "source": [
    "拟合模型之后， alpha 参数就是最优参数："
   ]
  },
  {
   "cell_type": "code",
   "execution_count": 40,
   "metadata": {
    "collapsed": false
   },
   "outputs": [
    {
     "data": {
      "text/plain": [
       "0.10000000000000001"
      ]
     },
     "execution_count": 40,
     "metadata": {},
     "output_type": "execute_result"
    }
   ],
   "source": [
    "rcv.alpha_"
   ]
  },
  {
   "cell_type": "markdown",
   "metadata": {},
   "source": [
    "这里， 0.1 是最优参数，我们还想看到 0.1 附近更精确的值："
   ]
  },
  {
   "cell_type": "code",
   "execution_count": 41,
   "metadata": {
    "collapsed": false
   },
   "outputs": [
    {
     "data": {
      "text/plain": [
       "RidgeCV(alphas=array([ 0.08,  0.09,  0.1 ,  0.11,  0.12]), cv=None,\n",
       "    fit_intercept=True, gcv_mode=None, normalize=False, scoring=None,\n",
       "    store_cv_values=False)"
      ]
     },
     "execution_count": 41,
     "metadata": {},
     "output_type": "execute_result"
    }
   ],
   "source": [
    "rcv = RidgeCV(alphas=np.array([.08, .09, .1, .11, .12]))\n",
    "rcv.fit(reg_data, reg_target)"
   ]
  },
  {
   "cell_type": "code",
   "execution_count": 42,
   "metadata": {
    "collapsed": false
   },
   "outputs": [
    {
     "data": {
      "text/plain": [
       "0.080000000000000002"
      ]
     },
     "execution_count": 42,
     "metadata": {},
     "output_type": "execute_result"
    }
   ],
   "source": [
    "rcv.alpha_"
   ]
  },
  {
   "cell_type": "markdown",
   "metadata": {},
   "source": [
    "可以按照这个思路一直优化下去，这里只做演示，后面还是介绍更好的方法。"
   ]
  },
  {
   "cell_type": "markdown",
   "metadata": {},
   "source": [
    "### How it works...\n",
    "上面的演示很直接，但是我们介绍一下为什么这么做，以及哪个值才是最优的。在\n",
    "交叉检验的每一步里，模型的拟合效果都是用测试样本的误差表示。默认情况使用\n",
    "平方误差。更多细节见 There's more... 一节。\n",
    "我们可以让 RidgeCV 储存交叉检验的数据，这样就可以可视化整个过程："
   ]
  },
  {
   "cell_type": "code",
   "execution_count": 43,
   "metadata": {
    "collapsed": false
   },
   "outputs": [
    {
     "data": {
      "text/plain": [
       "RidgeCV(alphas=array([ 0.0001 ,  0.00112,  0.00214,  0.00316,  0.00417,  0.00519,\n",
       "        0.00621,  0.00723,  0.00825,  0.00927,  0.01028,  0.0113 ,\n",
       "        0.01232,  0.01334,  0.01436,  0.01538,  0.01639,  0.01741,\n",
       "        0.01843,  0.01945,  0.02047,  0.02149,  0.0225 ,  0.02352,\n",
       "        0.02454,  0.02556...4185,\n",
       "        0.04287,  0.04389,  0.04491,  0.04593,  0.04694,  0.04796,\n",
       "        0.04898,  0.05   ]),\n",
       "    cv=None, fit_intercept=True, gcv_mode=None, normalize=False,\n",
       "    scoring=None, store_cv_values=True)"
      ]
     },
     "execution_count": 43,
     "metadata": {},
     "output_type": "execute_result"
    }
   ],
   "source": [
    "alphas_to_test = np.linspace(0.0001, 0.05)\n",
    "rcv3 = RidgeCV(alphas=alphas_to_test, store_cv_values=True)\n",
    "rcv3.fit(reg_data, reg_target)"
   ]
  },
  {
   "cell_type": "markdown",
   "metadata": {},
   "source": [
    "你会看到，我们测试了0.0001到0.05区间中的50个点。由于我们\n",
    "把 store_cv_values 设置成 true ，我们可以看到每一个值对应的拟合效果："
   ]
  },
  {
   "cell_type": "code",
   "execution_count": 44,
   "metadata": {
    "collapsed": false
   },
   "outputs": [
    {
     "data": {
      "text/plain": [
       "(100, 50)"
      ]
     },
     "execution_count": 44,
     "metadata": {},
     "output_type": "execute_result"
    }
   ],
   "source": [
    "rcv3.cv_values_.shape"
   ]
  },
  {
   "cell_type": "code",
   "execution_count": 47,
   "metadata": {
    "collapsed": false
   },
   "outputs": [
    {
     "data": {
      "text/plain": [
       "0.025559183673469387"
      ]
     },
     "execution_count": 47,
     "metadata": {},
     "output_type": "execute_result"
    }
   ],
   "source": [
    "smallest_idx = rcv3.cv_values_.mean(axis=0).argmin()\n",
    "alphas_to_test[smallest_idx]"
   ]
  },
  {
   "cell_type": "markdown",
   "metadata": {},
   "source": [
    "此时问题转化成了“RidgeCV认可我们的选择吗？”可以再用下面的命令获\n",
    "取 alpha 值："
   ]
  },
  {
   "cell_type": "code",
   "execution_count": 48,
   "metadata": {
    "collapsed": false
   },
   "outputs": [
    {
     "data": {
      "text/plain": [
       "0.025559183673469387"
      ]
     },
     "execution_count": 48,
     "metadata": {},
     "output_type": "execute_result"
    }
   ],
   "source": [
    "rcv3.alpha_"
   ]
  },
  {
   "cell_type": "markdown",
   "metadata": {},
   "source": [
    "通过可视化图形可以更直观的显示出来。我们画出50个测试 alpha 值的图："
   ]
  },
  {
   "cell_type": "code",
   "execution_count": 49,
   "metadata": {
    "collapsed": false
   },
   "outputs": [
    {
     "data": {
      "image/png": "[encoded data removed]",
      "text/plain": [
       "<matplotlib.figure.Figure at 0xb650668>"
      ]
     },
     "metadata": {},
     "output_type": "display_data"
    }
   ],
   "source": [
    "%matplotlib inline\n",
    "import matplotlib.pyplot as plt\n",
    "f, ax = plt.subplots(figsize=(7, 5))\n",
    "ax.set_title(r\"Various values of $\\alpha$\")\n",
    "xy = (alphas_to_test[smallest_idx], rcv3.cv_values_.mean(axis=0)[smallest_idx])\n",
    "xytext = (xy[0] + .01, xy[1] + .1)\n",
    "ax.annotate(r'Chosen $\\alpha$', xy=xy, xytext=xytext,\n",
    "arrowprops=dict(facecolor='black', shrink=0, width=0))\n",
    "ax.plot(alphas_to_test, rcv3.cv_values_.mean(axis=0));"
   ]
  },
  {
   "cell_type": "markdown",
   "metadata": {},
   "source": [
    "### There's more...\n",
    "如果我们想用其他误差自定义评分函数，也是可以实现的。前面我们介绍过MAD误\n",
    "差，我们可以用它来评分。首先我们需要定义损失函数："
   ]
  },
  {
   "cell_type": "code",
   "execution_count": 50,
   "metadata": {
    "collapsed": true
   },
   "outputs": [],
   "source": [
    "def MAD(target, prediction):\n",
    "    absolute_deviation = np.abs(target - predicion)\n",
    "    return absolute_deviation"
   ]
  },
  {
   "cell_type": "markdown",
   "metadata": {},
   "source": [
    "定义损失函数之后，我们用 sklearn 量度中的 make_scorer 函数来处理。这样\n",
    "做可以标准化自定义的函数，让scikit-learn对象可以使用它。另外，由于这是一个\n",
    "损失函数不是一个评分函数，是越低越好，所以要用 sklearn 来把最小化问题转\n",
    "化成最大化问题："
   ]
  },
  {
   "cell_type": "code",
   "execution_count": 54,
   "metadata": {
    "collapsed": false
   },
   "outputs": [
    {
     "ename": "TypeError",
     "evalue": "__call__() missing 1 required positional argument: 'y_true'",
     "output_type": "error",
     "traceback": [
      "\u001b[0;31m---------------------------------------------------------------------------\u001b[0m",
      "\u001b[0;31mTypeError\u001b[0m                                 Traceback (most recent call last)",
      "\u001b[0;32m<ipython-input-54-44245cd2ffcb>\u001b[0m in \u001b[0;36m<module>\u001b[0;34m()\u001b[0m\n\u001b[1;32m      2\u001b[0m \u001b[0mMAD\u001b[0m \u001b[1;33m=\u001b[0m \u001b[0msklearn\u001b[0m\u001b[1;33m.\u001b[0m\u001b[0mmetrics\u001b[0m\u001b[1;33m.\u001b[0m\u001b[0mmake_scorer\u001b[0m\u001b[1;33m(\u001b[0m\u001b[0mMAD\u001b[0m\u001b[1;33m,\u001b[0m \u001b[0mgreater_is_better\u001b[0m\u001b[1;33m=\u001b[0m\u001b[1;32mFalse\u001b[0m\u001b[1;33m)\u001b[0m\u001b[1;33m\u001b[0m\u001b[0m\n\u001b[1;32m      3\u001b[0m \u001b[0mrcv4\u001b[0m \u001b[1;33m=\u001b[0m \u001b[0mRidgeCV\u001b[0m\u001b[1;33m(\u001b[0m\u001b[0malphas\u001b[0m\u001b[1;33m=\u001b[0m\u001b[0malphas_to_test\u001b[0m\u001b[1;33m,\u001b[0m \u001b[0mstore_cv_values\u001b[0m\u001b[1;33m=\u001b[0m\u001b[1;32mTrue\u001b[0m\u001b[1;33m,\u001b[0m \u001b[0mscoring\u001b[0m\u001b[1;33m=\u001b[0m\u001b[0mMAD\u001b[0m\u001b[1;33m)\u001b[0m\u001b[1;33m\u001b[0m\u001b[0m\n\u001b[0;32m----> 4\u001b[0;31m \u001b[0mrcv4\u001b[0m\u001b[1;33m.\u001b[0m\u001b[0mfit\u001b[0m\u001b[1;33m(\u001b[0m\u001b[0mreg_data\u001b[0m\u001b[1;33m,\u001b[0m \u001b[0mreg_target\u001b[0m\u001b[1;33m)\u001b[0m\u001b[1;33m\u001b[0m\u001b[0m\n\u001b[0m\u001b[1;32m      5\u001b[0m \u001b[0msmallest_idx\u001b[0m \u001b[1;33m=\u001b[0m \u001b[0mrcv\u001b[0m\u001b[1;33m.\u001b[0m\u001b[0mcv_values_mean\u001b[0m\u001b[1;33m(\u001b[0m\u001b[0maxis\u001b[0m\u001b[1;33m=\u001b[0m\u001b[1;36m0\u001b[0m\u001b[1;33m)\u001b[0m\u001b[1;33m.\u001b[0m\u001b[0margmin\u001b[0m\u001b[1;33m(\u001b[0m\u001b[1;33m)\u001b[0m\u001b[1;33m\u001b[0m\u001b[0m\n\u001b[1;32m      6\u001b[0m \u001b[0malphas_to_test\u001b[0m\u001b[1;33m[\u001b[0m\u001b[0msmallest_idx\u001b[0m\u001b[1;33m]\u001b[0m\u001b[1;33m\u001b[0m\u001b[0m\n",
      "\u001b[0;32mD:\\MyConfiguration\\cp14330\\AppData\\Local\\Continuum\\Anaconda3\\lib\\site-packages\\sklearn\\linear_model\\ridge.py\u001b[0m in \u001b[0;36mfit\u001b[0;34m(self, X, y, sample_weight)\u001b[0m\n\u001b[1;32m   1080\u001b[0m                                   \u001b[0mgcv_mode\u001b[0m\u001b[1;33m=\u001b[0m\u001b[0mself\u001b[0m\u001b[1;33m.\u001b[0m\u001b[0mgcv_mode\u001b[0m\u001b[1;33m,\u001b[0m\u001b[1;33m\u001b[0m\u001b[0m\n\u001b[1;32m   1081\u001b[0m                                   store_cv_values=self.store_cv_values)\n\u001b[0;32m-> 1082\u001b[0;31m             \u001b[0mestimator\u001b[0m\u001b[1;33m.\u001b[0m\u001b[0mfit\u001b[0m\u001b[1;33m(\u001b[0m\u001b[0mX\u001b[0m\u001b[1;33m,\u001b[0m \u001b[0my\u001b[0m\u001b[1;33m,\u001b[0m \u001b[0msample_weight\u001b[0m\u001b[1;33m=\u001b[0m\u001b[0msample_weight\u001b[0m\u001b[1;33m)\u001b[0m\u001b[1;33m\u001b[0m\u001b[0m\n\u001b[0m\u001b[1;32m   1083\u001b[0m             \u001b[0mself\u001b[0m\u001b[1;33m.\u001b[0m\u001b[0malpha_\u001b[0m \u001b[1;33m=\u001b[0m \u001b[0mestimator\u001b[0m\u001b[1;33m.\u001b[0m\u001b[0malpha_\u001b[0m\u001b[1;33m\u001b[0m\u001b[0m\n\u001b[1;32m   1084\u001b[0m             \u001b[1;32mif\u001b[0m \u001b[0mself\u001b[0m\u001b[1;33m.\u001b[0m\u001b[0mstore_cv_values\u001b[0m\u001b[1;33m:\u001b[0m\u001b[1;33m\u001b[0m\u001b[0m\n",
      "\u001b[0;32mD:\\MyConfiguration\\cp14330\\AppData\\Local\\Continuum\\Anaconda3\\lib\\site-packages\\sklearn\\linear_model\\ridge.py\u001b[0m in \u001b[0;36mfit\u001b[0;34m(self, X, y, sample_weight)\u001b[0m\n\u001b[1;32m   1023\u001b[0m \u001b[1;33m\u001b[0m\u001b[0m\n\u001b[1;32m   1024\u001b[0m             out = [scorer(identity_estimator, y.ravel(), cv_values[:, i])\n\u001b[0;32m-> 1025\u001b[0;31m                    for i in range(len(self.alphas))]\n\u001b[0m\u001b[1;32m   1026\u001b[0m             \u001b[0mbest\u001b[0m \u001b[1;33m=\u001b[0m \u001b[0mnp\u001b[0m\u001b[1;33m.\u001b[0m\u001b[0margmax\u001b[0m\u001b[1;33m(\u001b[0m\u001b[0mout\u001b[0m\u001b[1;33m)\u001b[0m\u001b[1;33m\u001b[0m\u001b[0m\n\u001b[1;32m   1027\u001b[0m \u001b[1;33m\u001b[0m\u001b[0m\n",
      "\u001b[0;32mD:\\MyConfiguration\\cp14330\\AppData\\Local\\Continuum\\Anaconda3\\lib\\site-packages\\sklearn\\linear_model\\ridge.py\u001b[0m in \u001b[0;36m<listcomp>\u001b[0;34m(.0)\u001b[0m\n\u001b[1;32m   1023\u001b[0m \u001b[1;33m\u001b[0m\u001b[0m\n\u001b[1;32m   1024\u001b[0m             out = [scorer(identity_estimator, y.ravel(), cv_values[:, i])\n\u001b[0;32m-> 1025\u001b[0;31m                    for i in range(len(self.alphas))]\n\u001b[0m\u001b[1;32m   1026\u001b[0m             \u001b[0mbest\u001b[0m \u001b[1;33m=\u001b[0m \u001b[0mnp\u001b[0m\u001b[1;33m.\u001b[0m\u001b[0margmax\u001b[0m\u001b[1;33m(\u001b[0m\u001b[0mout\u001b[0m\u001b[1;33m)\u001b[0m\u001b[1;33m\u001b[0m\u001b[0m\n\u001b[1;32m   1027\u001b[0m \u001b[1;33m\u001b[0m\u001b[0m\n",
      "\u001b[0;32mD:\\MyConfiguration\\cp14330\\AppData\\Local\\Continuum\\Anaconda3\\lib\\site-packages\\sklearn\\metrics\\scorer.py\u001b[0m in \u001b[0;36m__call__\u001b[0;34m(self, estimator, X, y_true, sample_weight)\u001b[0m\n\u001b[1;32m     96\u001b[0m         \u001b[1;32melse\u001b[0m\u001b[1;33m:\u001b[0m\u001b[1;33m\u001b[0m\u001b[0m\n\u001b[1;32m     97\u001b[0m             return self._sign * self._score_func(y_true, y_pred,\n\u001b[0;32m---> 98\u001b[0;31m                                                  **self._kwargs)\n\u001b[0m\u001b[1;32m     99\u001b[0m \u001b[1;33m\u001b[0m\u001b[0m\n\u001b[1;32m    100\u001b[0m \u001b[1;33m\u001b[0m\u001b[0m\n",
      "\u001b[0;31mTypeError\u001b[0m: __call__() missing 1 required positional argument: 'y_true'"
     ]
    }
   ],
   "source": [
    "import sklearn\n",
    "MAD = sklearn.metrics.make_scorer(MAD, greater_is_better=False)\n",
    "rcv4 = RidgeCV(alphas=alphas_to_test, store_cv_values=True, scoring=MAD)\n",
    "rcv4.fit(reg_data, reg_target)\n",
    "smallest_idx = rcv.cv_values_mean(axis=0).argmin()\n",
    "alphas_to_test[smallest_idx]"
   ]
  },
  {
   "cell_type": "markdown",
   "metadata": {},
   "source": [
    "## LASSO正则化"
   ]
  },
  {
   "cell_type": "markdown",
   "metadata": {},
   "source": [
    "LASSO（ least absolute shrinkage and selection operator，最小绝对值收缩和选\n",
    "择算子）方法与岭回归和LARS（least angle regression，最小角回归）很类似。与\n",
    "岭回归类似，它也是通过增加惩罚函数来判断、消除特征间的共线性。与LARS相\n",
    "似的是它也可以用作参数选择，通常得出一个相关系数的稀疏向量。\n",
    "### Getting ready\n",
    "岭回归也不是万能药。有时就需要用LASSO回归来建模。本主题将用不同的损失函\n",
    "数，因此就要用对应的效果评估方法。\n",
    "### How to do it...\n",
    "首先，我们还是用 make_regression 函数来建立数据集："
   ]
  },
  {
   "cell_type": "code",
   "execution_count": 55,
   "metadata": {
    "collapsed": true
   },
   "outputs": [],
   "source": [
    "from sklearn.datasets import make_regression\n",
    "reg_data, reg_target = make_regression(n_samples=200, n_features=500, n_informative=5, noise=5)"
   ]
  },
  {
   "cell_type": "markdown",
   "metadata": {},
   "source": [
    "之后，我们导入 lasso 对象："
   ]
  },
  {
   "cell_type": "code",
   "execution_count": 56,
   "metadata": {
    "collapsed": true
   },
   "outputs": [],
   "source": [
    "from sklearn.linear_model import Lasso\n",
    "lasso = Lasso()"
   ]
  },
  {
   "cell_type": "markdown",
   "metadata": {},
   "source": [
    "lasso 包含很多参数，但是最意思的参数是 alpha ，用来调整 lasso 的惩罚\n",
    "项，在How it works...会具体介绍。现在我们用默认值 1 。另外，和岭回归类\n",
    "似，如果设置为 0 ，那么 lasso 就是线性回归："
   ]
  },
  {
   "cell_type": "code",
   "execution_count": 57,
   "metadata": {
    "collapsed": false
   },
   "outputs": [
    {
     "data": {
      "text/plain": [
       "Lasso(alpha=1.0, copy_X=True, fit_intercept=True, max_iter=1000,\n",
       "   normalize=False, positive=False, precompute=False, random_state=None,\n",
       "   selection='cyclic', tol=0.0001, warm_start=False)"
      ]
     },
     "execution_count": 57,
     "metadata": {},
     "output_type": "execute_result"
    }
   ],
   "source": [
    "lasso.fit(reg_data, reg_target)"
   ]
  },
  {
   "cell_type": "markdown",
   "metadata": {},
   "source": [
    "再让我们看看还有多少相关系数非零："
   ]
  },
  {
   "cell_type": "code",
   "execution_count": 58,
   "metadata": {
    "collapsed": false
   },
   "outputs": [
    {
     "data": {
      "text/plain": [
       "8"
      ]
     },
     "execution_count": 58,
     "metadata": {},
     "output_type": "execute_result"
    }
   ],
   "source": [
    "import numpy as np\n",
    "np.sum(lasso.coef_ != 0)"
   ]
  },
  {
   "cell_type": "code",
   "execution_count": 59,
   "metadata": {
    "collapsed": false
   },
   "outputs": [
    {
     "name": "stderr",
     "output_type": "stream",
     "text": [
      "D:\\MyConfiguration\\cp14330\\AppData\\Local\\Continuum\\Anaconda3\\lib\\site-packages\\ipykernel\\__main__.py:2: UserWarning: With alpha=0, this algorithm does not converge well. You are advised to use the LinearRegression estimator\n",
      "  from ipykernel import kernelapp as app\n",
      "D:\\MyConfiguration\\cp14330\\AppData\\Local\\Continuum\\Anaconda3\\lib\\site-packages\\sklearn\\linear_model\\coordinate_descent.py:470: UserWarning: Coordinate descent with alpha=0 may lead to unexpected results and is discouraged.\n",
      "  positive)\n"
     ]
    },
    {
     "data": {
      "text/plain": [
       "500"
      ]
     },
     "execution_count": 59,
     "metadata": {},
     "output_type": "execute_result"
    }
   ],
   "source": [
    "lasso_0 = Lasso(0)\n",
    "lasso_0.fit(reg_data, reg_target)\n",
    "np.sum(lasso_0.coef_ != 0)"
   ]
  },
  {
   "cell_type": "markdown",
   "metadata": {},
   "source": [
    "和我们设想的一样，如果用线性回归，没有一个相关系数变成0。而且，如果你这\n",
    "么运行代码，scikit-learn会给出建议，就像上面显示的那样。"
   ]
  },
  {
   "cell_type": "markdown",
   "metadata": {},
   "source": [
    "### How it works...\n",
    "对线性回归来说，我们是最小化残差平方和。而LASSO回归里，我们还是最小化残\n",
    "差平方和，但是加了一个惩罚项会导致稀疏。如下所示：\n",
    "$$\\sum {e_i + \\lambda \\ {\\begin{Vmatrix} \\beta \\end{Vmatrix}}_1}\n",
    "$$\n",
    "最小化残差平方和的另一种表达方式是：\n",
    "$$ RSS(\\beta),其中 {\\begin{Vmatrix} \\beta \\end{Vmatrix}}_1 \\lt \\beta\n",
    "$$\n",
    "这个约束会让数据稀疏。LASSO回归的约束创建了围绕原点的超立方体（相关系数\n",
    "是轴），也就意味着大多数点都在各个顶点上，那里相关系数为0。而岭回归创建\n",
    "的是超平面，因为其约束是L2范数，少一个约束，但是即使有限制相关系数也不会\n",
    "变成0。\n",
    "### LASSO交叉检验\n",
    "上面的公式中，选择适当的$\\lambda$（在scikit-learn的 Lasso 里面是 alpha ，\n",
    "但是书上都是$\\lambda$）参数是关键。我们可以自己设置，也可以通过交叉检验\n",
    "来获取最优参数："
   ]
  },
  {
   "cell_type": "code",
   "execution_count": 60,
   "metadata": {
    "collapsed": false
   },
   "outputs": [
    {
     "data": {
      "text/plain": [
       "LassoCV(alphas=None, copy_X=True, cv=None, eps=0.001, fit_intercept=True,\n",
       "    max_iter=1000, n_alphas=100, n_jobs=1, normalize=False, positive=False,\n",
       "    precompute='auto', random_state=None, selection='cyclic', tol=0.0001,\n",
       "    verbose=False)"
      ]
     },
     "execution_count": 60,
     "metadata": {},
     "output_type": "execute_result"
    }
   ],
   "source": [
    "from sklearn.linear_model import LassoCV\n",
    "lassocv = LassoCV()\n",
    "lassocv.fit(reg_data, reg_target)"
   ]
  },
  {
   "cell_type": "markdown",
   "metadata": {},
   "source": [
    "lassocv 有一个属性就是确定最合适的$\\lambda$："
   ]
  },
  {
   "cell_type": "code",
   "execution_count": 61,
   "metadata": {
    "collapsed": false
   },
   "outputs": [
    {
     "data": {
      "text/plain": [
       "0.88263792334082791"
      ]
     },
     "execution_count": 61,
     "metadata": {},
     "output_type": "execute_result"
    }
   ],
   "source": [
    "lassocv.alpha_"
   ]
  },
  {
   "cell_type": "markdown",
   "metadata": {},
   "source": [
    "计算的相关系数也可以看到："
   ]
  },
  {
   "cell_type": "code",
   "execution_count": 62,
   "metadata": {
    "collapsed": false
   },
   "outputs": [
    {
     "data": {
      "text/plain": [
       "array([ 0.,  0., -0., -0.,  0.])"
      ]
     },
     "execution_count": 62,
     "metadata": {},
     "output_type": "execute_result"
    }
   ],
   "source": [
    "lassocv.coef_[:5]"
   ]
  },
  {
   "cell_type": "markdown",
   "metadata": {},
   "source": [
    "用最近的参数拟合后， lassocv 的非零相关系数有29个："
   ]
  },
  {
   "cell_type": "code",
   "execution_count": 63,
   "metadata": {
    "collapsed": false
   },
   "outputs": [
    {
     "data": {
      "text/plain": [
       "11"
      ]
     },
     "execution_count": 63,
     "metadata": {},
     "output_type": "execute_result"
    }
   ],
   "source": [
    "np.sum(lassocv.coef_ != 0)"
   ]
  },
  {
   "cell_type": "markdown",
   "metadata": {},
   "source": [
    "LASSO特征选择\n",
    "LASSO通常用来为其他方法所特征选择。例如，你可能会用LASSO回归获取适当\n",
    "的特征变量，然后在其他算法中使用。\n",
    "要获取想要的特征，需要创建一个非零相关系数的列向量，然后再其他算法拟合："
   ]
  },
  {
   "cell_type": "code",
   "execution_count": 64,
   "metadata": {
    "collapsed": false
   },
   "outputs": [
    {
     "data": {
      "text/plain": [
       "(200, 11)"
      ]
     },
     "execution_count": 64,
     "metadata": {},
     "output_type": "execute_result"
    }
   ],
   "source": [
    "mask = lassocv.coef_ != 0\n",
    "new_reg_data = reg_data[:, mask]\n",
    "new_reg_data.shape"
   ]
  },
  {
   "cell_type": "markdown",
   "metadata": {},
   "source": [
    "## LARS正则化"
   ]
  },
  {
   "cell_type": "markdown",
   "metadata": {},
   "source": [
    "如果斯坦福大学的Bradley Efron, Trevor Hastie, Iain Johnstone和Robert Tibshirani\n",
    "没有发现它的话[1]，LARS(Least Angle Regression，最小角回归)可能有一天会被\n",
    "你想出来，它借用了威廉·吉尔伯特·斯特朗（William Gilbert Strang）介绍过的高斯\n",
    "消元法（Gaussian elimination）的灵感。\n",
    "### Getting ready\n",
    "LARS是一种回归手段，适用于解决高维问题，也就是$p >> n$的情况，其中$p$表\n",
    "示列或者特征变量，$n$表示样本数量。\n",
    "### How to do it...\n",
    "首先让我们导入必要的对象。这里我们用的数据集是200个数据，500个特征。我们\n",
    "还设置了一个低噪声，和少量提供信息的（informative）特征："
   ]
  },
  {
   "cell_type": "code",
   "execution_count": 65,
   "metadata": {
    "collapsed": true
   },
   "outputs": [],
   "source": [
    "import numpy as np\n",
    "from sklearn.datasets import make_regression\n",
    "reg_data, reg_target = make_regression(n_samples=200,n_features=500,n_informative=10, noise=2)"
   ]
  },
  {
   "cell_type": "markdown",
   "metadata": {},
   "source": [
    "由于我们用了10个信息特征，因此我们还要为LARS设置10个非0的相关系数。我们\n",
    "事先可能不知道信息特征的准确数量，但是出于试验的目的是可行的："
   ]
  },
  {
   "cell_type": "code",
   "execution_count": 66,
   "metadata": {
    "collapsed": false
   },
   "outputs": [
    {
     "data": {
      "text/plain": [
       "Lars(copy_X=True, eps=2.2204460492503131e-16, fit_intercept=True,\n",
       "   fit_path=True, n_nonzero_coefs=10, normalize=True, positive=False,\n",
       "   precompute='auto', verbose=False)"
      ]
     },
     "execution_count": 66,
     "metadata": {},
     "output_type": "execute_result"
    }
   ],
   "source": [
    "from sklearn.linear_model import Lars\n",
    "lars = Lars(n_nonzero_coefs = 10)\n",
    "lars.fit(reg_data, reg_target)"
   ]
  },
  {
   "cell_type": "markdown",
   "metadata": {},
   "source": [
    "我们可以检验一下看看LARS的非0相关系数的和："
   ]
  },
  {
   "cell_type": "code",
   "execution_count": 67,
   "metadata": {
    "collapsed": false
   },
   "outputs": [
    {
     "data": {
      "text/plain": [
       "10"
      ]
     },
     "execution_count": 67,
     "metadata": {},
     "output_type": "execute_result"
    }
   ],
   "source": [
    "np.sum(lars.coef_ != 0)"
   ]
  },
  {
   "cell_type": "markdown",
   "metadata": {},
   "source": [
    "问题在于为什么少量的特征反而变得更加有效。要证明这一点，让我们用一半数量\n",
    "来训练两个LARS模型，一个用12个非零相关系数，另一个非零相关系数用默认\n",
    "值。这里用12个是因为我们对重要特征的数量有个估计，但是可能无法确定准确的\n",
    "数量："
   ]
  },
  {
   "cell_type": "code",
   "execution_count": 68,
   "metadata": {
    "collapsed": false
   },
   "outputs": [
    {
     "data": {
      "text/plain": [
       "Lars(copy_X=True, eps=2.2204460492503131e-16, fit_intercept=True,\n",
       "   fit_path=True, n_nonzero_coefs=12, normalize=True, positive=False,\n",
       "   precompute='auto', verbose=False)"
      ]
     },
     "execution_count": 68,
     "metadata": {},
     "output_type": "execute_result"
    }
   ],
   "source": [
    "train_n = 100\n",
    "lars_12 = Lars(n_nonzero_coefs=12)\n",
    "lars_12.fit(reg_data[:train_n], reg_target[:train_n])"
   ]
  },
  {
   "cell_type": "code",
   "execution_count": 69,
   "metadata": {
    "collapsed": false
   },
   "outputs": [
    {
     "data": {
      "text/plain": [
       "Lars(copy_X=True, eps=2.2204460492503131e-16, fit_intercept=True,\n",
       "   fit_path=True, n_nonzero_coefs=500, normalize=True, positive=False,\n",
       "   precompute='auto', verbose=False)"
      ]
     },
     "execution_count": 69,
     "metadata": {},
     "output_type": "execute_result"
    }
   ],
   "source": [
    "lars_500 = Lars() #默认就是500\n",
    "lars_500.fit(reg_data[:train_n], reg_target[:train_n])"
   ]
  },
  {
   "cell_type": "markdown",
   "metadata": {},
   "source": [
    "现在，让我们看看拟合数据的效果如何，如下所示："
   ]
  },
  {
   "cell_type": "code",
   "execution_count": 70,
   "metadata": {
    "collapsed": false
   },
   "outputs": [
    {
     "data": {
      "text/plain": [
       "5.4690657874292405"
      ]
     },
     "execution_count": 70,
     "metadata": {},
     "output_type": "execute_result"
    }
   ],
   "source": [
    "np.mean(np.power(reg_target[train_n:] - lars.predict(reg_data[train_n:]), 2))"
   ]
  },
  {
   "cell_type": "code",
   "execution_count": 71,
   "metadata": {
    "collapsed": false
   },
   "outputs": [
    {
     "data": {
      "text/plain": [
       "15.00391724221546"
      ]
     },
     "execution_count": 71,
     "metadata": {},
     "output_type": "execute_result"
    }
   ],
   "source": [
    "np.mean(np.power(reg_target[train_n:] - lars_12.predict(reg_data[train_n:]), 2))"
   ]
  },
  {
   "cell_type": "code",
   "execution_count": 72,
   "metadata": {
    "collapsed": false
   },
   "outputs": [
    {
     "data": {
      "text/plain": [
       "1.0205935283426184e+30"
      ]
     },
     "execution_count": 72,
     "metadata": {},
     "output_type": "execute_result"
    }
   ],
   "source": [
    "np.mean(np.power(reg_target[train_n:] - lars_500.predict(reg_data[train_n:]), 2))"
   ]
  },
  {
   "cell_type": "markdown",
   "metadata": {},
   "source": [
    "仔细看看这组结果；测试集的误差明显高很多。高维数据集问题就在于此；通常面\n",
    "对大量的特征时，想找出一个对训练集拟合很好的模型并不难，但是拟合过度却是\n",
    "更大的问题。"
   ]
  },
  {
   "cell_type": "markdown",
   "metadata": {},
   "source": [
    "### How it works...\n",
    "LARS通过重复选择与残存变化相关的特征。从图上看，相关性实际上就是特征与\n",
    "残差之间的最小角度；这就是LARS名称的由来。\n",
    "选择第一个特征之后，LARS会继续沿着最小角的方向移动，直到另一个特征与残\n",
    "差有同样数量的相关性。然后，LARS会沿着两个特征组合的角度移动。如下图所\n",
    "示："
   ]
  },
  {
   "cell_type": "code",
   "execution_count": 75,
   "metadata": {
    "collapsed": false
   },
   "outputs": [
    {
     "data": {
      "image/png": "[encoded data removed]",
      "text/plain": [
       "<matplotlib.figure.Figure at 0xaee0e10>"
      ]
     },
     "metadata": {},
     "output_type": "display_data"
    }
   ],
   "source": [
    "%matplotlib inline\n",
    "import matplotlib.pyplot as plt\n",
    "def unit(*args):\n",
    "    squared = map(lambda x: x**2, args)\n",
    "    distance = sum(squared) ** (.5)\n",
    "    return map(lambda x: x / distance, args)\n",
    "f, ax = plt.subplots(nrows=3, figsize=(5, 10))\n",
    "plt.tight_layout()\n",
    "ax[0].set_ylim(0, 1.1)\n",
    "ax[0].set_xlim(0, 1.1)\n",
    "x, y = unit(1, 0.02)\n",
    "ax[0].arrow(0, 0, x, y, edgecolor='black', facecolor='black')\n",
    "ax[0].text(x + .05, y + .05, r\"$x_1$\")\n",
    "x, y = unit(.5, 1)\n",
    "ax[0].arrow(0, 0, x, y, edgecolor='black', facecolor='black')\n",
    "ax[0].text(x + .05, y + .05, r\"$x_2$\")\n",
    "x, y = unit(1, .45)\n",
    "ax[0].arrow(0, 0, x, y, edgecolor='black', facecolor='black')\n",
    "ax[0].text(x + .05, y + .05, r\"$y$\")\n",
    "ax[0].set_title(\"No steps\")\n",
    "# step 1\n",
    "ax[1].set_title(\"Step 1\")\n",
    "ax[1].set_ylim(0, 1.1)\n",
    "ax[1].set_xlim(0, 1.1)\n",
    "x, y = unit(1, 0.02)\n",
    "ax[1].arrow(0, 0, x, y, edgecolor='black', facecolor='black')\n",
    "ax[1].text(x + .05, y + .05, r\"$x_1$\")\n",
    "x, y = unit(.5, 1)\n",
    "ax[1].arrow(0, 0, x, y, edgecolor='black', facecolor='black')\n",
    "ax[1].text(x + .05, y + .05, r\"$x_2$\")\n",
    "x, y = unit(.5, 1)\n",
    "ax[1].arrow(.5, 0.01, x, y, ls='dashed', edgecolor='black', facecolor='black')\n",
    "ax[1].text(x + .5 + .05, y + .01 + .05, r\"$x_2$\")\n",
    "ax[1].arrow(0, 0, .47, .01, width=.0015, edgecolor='black', facecolor='black')\n",
    "ax[1].text(.47-.15, .01 + .03, \"Step 1\")\n",
    "x, y = unit(1, .45)\n",
    "ax[1].arrow(0, 0, x, y, edgecolor='black', facecolor='black')\n",
    "ax[1].text(x + .05, y + .05, r\"$y$\")\n",
    "# step 2\n",
    "ax[2].set_title(\"Step 2\")\n",
    "ax[2].set_ylim(0, 1.1)\n",
    "ax[2].set_xlim(0, 1.1)\n",
    "x, y = unit(1, 0.02)\n",
    "ax[2].arrow(0, 0, x, y, edgecolor='black', facecolor='black')\n",
    "ax[2].text(x + .05, y + .05, r\"$x_1$\")\n",
    "x, y = unit(.5, 1)\n",
    "ax[2].arrow(0, 0, x, y, edgecolor='black', facecolor='black')\n",
    "ax[2].text(x + .05, y + .05, r\"$x_2$\")\n",
    "x, y = unit(.5, 1)\n",
    "ax[2].arrow(.5, 0.01, x, y, ls='dashed', edgecolor='black', facecolor='black')\n",
    "ax[2].text(x + .5 + .05, y + .01 + .05, r\"$x_2$\")\n",
    "ax[2].arrow(0, 0, .47, .01, width=.0015, edgecolor='black', facecolor='black')\n",
    "ax[2].text(.47-.15, .01 + .03, \"Step 1\")\n",
    "## step 2\n",
    "x, y = unit(1, .45)\n",
    "ax[2].arrow(.5, .02, .4, .35, width=.0015, edgecolor='black', facecolor='black')\n",
    "ax[2].text(x, y - .1, \"Step 2\")\n",
    "x, y = unit(1, .45)\n",
    "ax[2].arrow(0, 0, x, y, edgecolor='black', facecolor='black')\n",
    "ax[2].text(x + .05, y + .05, r\"$y$\");"
   ]
  },
  {
   "cell_type": "markdown",
   "metadata": {},
   "source": [
    "具体过程是，我们把$x2$沿着$x1$方向移动到一个位置：$x1$与$y$的点积与\n",
    "$x1$与$y$的点积相同。到了这个位置之后，我们再沿着$x1$和$x2$夹角的一半的\n",
    "方向移动。\n",
    "### There's more...\n",
    "和我们前面用交叉检验来优化领回归模型一样，我们可以对LARS做交叉检验："
   ]
  },
  {
   "cell_type": "code",
   "execution_count": 76,
   "metadata": {
    "collapsed": false
   },
   "outputs": [
    {
     "name": "stderr",
     "output_type": "stream",
     "text": [
      "D:\\MyConfiguration\\cp14330\\AppData\\Local\\Continuum\\Anaconda3\\lib\\site-packages\\sklearn\\linear_model\\least_angle.py:309: ConvergenceWarning: Regressors in active set degenerate. Dropping a regressor, after 159 iterations, i.e. alpha=2.515e-02, with an active set of 132 regressors, and the smallest cholesky pivot element being 6.664e-08\n",
      "  ConvergenceWarning)\n"
     ]
    },
    {
     "data": {
      "text/plain": [
       "LarsCV(copy_X=True, cv=None, eps=2.2204460492503131e-16, fit_intercept=True,\n",
       "    max_iter=500, max_n_alphas=1000, n_jobs=1, normalize=True,\n",
       "    positive=False, precompute='auto', verbose=False)"
      ]
     },
     "execution_count": 76,
     "metadata": {},
     "output_type": "execute_result"
    }
   ],
   "source": [
    "from sklearn.linear_model import LarsCV\n",
    "lcv = LarsCV()\n",
    "lcv.fit(reg_data, reg_target)"
   ]
  },
  {
   "cell_type": "markdown",
   "metadata": {},
   "source": [
    "用交叉检验可以帮助我们确定需要使用的非零相关系数的最佳数量。验证如下所\n",
    "示："
   ]
  },
  {
   "cell_type": "code",
   "execution_count": 78,
   "metadata": {
    "collapsed": false
   },
   "outputs": [
    {
     "data": {
      "text/plain": [
       "30"
      ]
     },
     "execution_count": 78,
     "metadata": {},
     "output_type": "execute_result"
    }
   ],
   "source": [
    "np.sum(lcv.coef_ != 0)"
   ]
  },
  {
   "cell_type": "markdown",
   "metadata": {},
   "source": [
    "说实话，LARS的精髓还没有领会，抽空会把原文译出来，看各种解释不如看原\n",
    "文。"
   ]
  },
  {
   "cell_type": "markdown",
   "metadata": {},
   "source": [
    "## 用线性方法处理分类问题——逻辑回归"
   ]
  },
  {
   "cell_type": "markdown",
   "metadata": {},
   "source": [
    "实际上线性模型也可以用于分类任务。方法是把一个线性模型拟合成某个类型的概\n",
    "率分布，然后用一个函数建立阈值来确定结果属于哪一类。\n",
    "### Getting ready\n",
    "这里用的函数是经典的逻辑函数。一个非常简单的函数：\n",
    "$$f(x)= \\frac 1 {1+e^{-t}}$$\n",
    "它的图形如下图所示："
   ]
  },
  {
   "cell_type": "code",
   "execution_count": 80,
   "metadata": {
    "collapsed": false
   },
   "outputs": [
    {
     "data": {
      "text/plain": [
       "[<matplotlib.lines.Line2D at 0xb124d68>]"
      ]
     },
     "execution_count": 80,
     "metadata": {},
     "output_type": "execute_result"
    },
    {
     "data": {
      "image/png": "[encoded data removed]",
      "text/plain": [
       "<matplotlib.figure.Figure at 0xb124c50>"
      ]
     },
     "metadata": {},
     "output_type": "display_data"
    }
   ],
   "source": [
    "import numpy as np\n",
    "%matplotlib inline\n",
    "import matplotlib.pyplot as plt\n",
    "f, ax = plt.subplots(figsize=(10, 5))\n",
    "rng = np.linspace(-5, 5)\n",
    "log_f = np.apply_along_axis(lambda x:1 / (1 + np.exp(-x)), 0, rng)\n",
    "ax.set_title(\"Logistic Function between [-5, 5]\")\n",
    "ax.plot(rng, log_f)"
   ]
  },
  {
   "cell_type": "markdown",
   "metadata": {},
   "source": [
    "让我们用 make_classification 方法创建一个数据集来进行分类："
   ]
  },
  {
   "cell_type": "code",
   "execution_count": 85,
   "metadata": {
    "collapsed": true
   },
   "outputs": [],
   "source": [
    "from sklearn.datasets import make_classification\n",
    "X, y =make_classification(n_samples=1000, n_features=4)"
   ]
  },
  {
   "cell_type": "markdown",
   "metadata": {},
   "source": [
    "### How to do it...\n",
    "LogisticRegression 对象和其他线性模型的用法一样："
   ]
  },
  {
   "cell_type": "code",
   "execution_count": 81,
   "metadata": {
    "collapsed": true
   },
   "outputs": [],
   "source": [
    "from sklearn.linear_model import LogisticRegression\n",
    "lr= LogisticRegression()"
   ]
  },
  {
   "cell_type": "markdown",
   "metadata": {},
   "source": [
    "我们将把前面200个数据作为训练集，最后200个数据作为测试集。因为这是随机数\n",
    "据集，所以用最后200个数据没问题。但是如果处理具有某种结构的数据，就不能\n",
    "这么做了（例如，你的数据集是时间序列数据）："
   ]
  },
  {
   "cell_type": "code",
   "execution_count": 86,
   "metadata": {
    "collapsed": false
   },
   "outputs": [],
   "source": [
    "X_train = X[:-200]\n",
    "X_test = X[-200:]\n",
    "y_train = y[:-200]\n",
    "y_test = y[-200:]"
   ]
  },
  {
   "cell_type": "markdown",
   "metadata": {},
   "source": [
    "在本书后面的内容里，我们将详细介绍交叉检验。这里，我们需要的只是用逻辑回\n",
    "归拟合模型。我们会关注训练集的预测结果，就像测试集预测结果一样。经常对比\n",
    "两个数据集预测正确率是个好做法。通常，你在训练集获得的结果更好；模型在测\n",
    "试集上预测失败的比例也至关重要："
   ]
  },
  {
   "cell_type": "code",
   "execution_count": 87,
   "metadata": {
    "collapsed": true
   },
   "outputs": [],
   "source": [
    "lr.fit(X_train, y_train)\n",
    "y_train_predictions = lr.predict(X_train)\n",
    "y_test_predictions = lr.predict(X_test)"
   ]
  },
  {
   "cell_type": "markdown",
   "metadata": {},
   "source": [
    "现在我们有了预测值，让我们看看预测的效果。这里，我们只简单看看预测正确的\n",
    "比例；后面，我们会详细的介绍分类模型效果的评估方法。\n",
    "计算很简单，就是用预测正确的数量除以总样本数："
   ]
  },
  {
   "cell_type": "code",
   "execution_count": 89,
   "metadata": {
    "collapsed": false
   },
   "outputs": [
    {
     "data": {
      "text/plain": [
       "0.90249999999999997"
      ]
     },
     "execution_count": 89,
     "metadata": {},
     "output_type": "execute_result"
    }
   ],
   "source": [
    "(y_train_predictions == y_train).sum().astype(float) / y_train.shape[0]"
   ]
  },
  {
   "cell_type": "markdown",
   "metadata": {},
   "source": [
    "测试集的效果是："
   ]
  },
  {
   "cell_type": "code",
   "execution_count": 90,
   "metadata": {
    "collapsed": false
   },
   "outputs": [
    {
     "data": {
      "text/plain": [
       "0.93000000000000005"
      ]
     },
     "execution_count": 90,
     "metadata": {},
     "output_type": "execute_result"
    }
   ],
   "source": [
    "(y_test_predictions == y_test).sum().astype(float) / y_test.shape[0]"
   ]
  },
  {
   "cell_type": "markdown",
   "metadata": {},
   "source": [
    "可以看到，测试集的正确率和训练集的结果差不多。但是实际中通常差别很大。\n",
    "现在问题变成，怎么把逻辑函数转换成分类方法。\n",
    "首先，线性回归希望找到一个线性方程拟合出给定自变量$X$条件下因变量$Y$的\n",
    "期望值，就是$E(Y|X)=x \\beta$。这里$Y$的值是某个类型发生的概率。因此，我\n",
    "们要解决的分类问题就是$E(p|X)=x \\beta$。然后，只要阈值确定，就会有\n",
    "$Logit(p) = X \\beta$。这个理念的扩展形式可以构成许多形式的回归行为，例如，\n",
    "泊松过程（Poisson）。\n",
    "### There's more...\n",
    "下面的内容你以后肯定会遇到。一种情况是一个类型与其他类型的权重不同；例\n",
    "如，一个能可能权重很大，99%。这种情况在分类工作中经常遇到。经典案例就是\n",
    "信用卡虚假交易检测，大多数交易都不是虚假交易，但是不同类型误判的成本相差\n",
    "很大。\n",
    "让我们建立一个分类问题，类型$y$的不平衡权重95%，我们看看基本的逻辑回归\n",
    "模型如何处理这类问题："
   ]
  },
  {
   "cell_type": "code",
   "execution_count": 91,
   "metadata": {
    "collapsed": true
   },
   "outputs": [],
   "source": [
    "X, y =make_classification(n_samples=5000, n_features=4, weights=[.95])"
   ]
  },
  {
   "cell_type": "code",
   "execution_count": 92,
   "metadata": {
    "collapsed": false
   },
   "outputs": [
    {
     "data": {
      "text/plain": [
       "0.054800000000000001"
      ]
     },
     "execution_count": 92,
     "metadata": {},
     "output_type": "execute_result"
    }
   ],
   "source": [
    "sum(y)/(len(y)*1.)"
   ]
  },
  {
   "cell_type": "markdown",
   "metadata": {},
   "source": [
    "建立训练集和测试集，然后用逻辑回归拟合："
   ]
  },
  {
   "cell_type": "code",
   "execution_count": 95,
   "metadata": {
    "collapsed": true
   },
   "outputs": [],
   "source": [
    "X_train = X[:-500]\n",
    "X_test = X[-500:]\n",
    "y_train = y[:-500]\n",
    "y_test = y[-500:]\n",
    "\n",
    "lr.fit(X_train, y_train)\n",
    "y_train_predictions = lr.predict(X_train)\n",
    "y_test_predictions = lr.predict(X_test)"
   ]
  },
  {
   "cell_type": "markdown",
   "metadata": {},
   "source": [
    "现在我们在看看模型拟合的情况："
   ]
  },
  {
   "cell_type": "code",
   "execution_count": 96,
   "metadata": {
    "collapsed": false
   },
   "outputs": [
    {
     "data": {
      "text/plain": [
       "0.97755555555555551"
      ]
     },
     "execution_count": 96,
     "metadata": {},
     "output_type": "execute_result"
    }
   ],
   "source": [
    "(y_train_predictions == y_train).sum().astype(float) / y_train.shape[0]"
   ]
  },
  {
   "cell_type": "code",
   "execution_count": 98,
   "metadata": {
    "collapsed": false
   },
   "outputs": [
    {
     "data": {
      "text/plain": [
       "0.98199999999999998"
      ]
     },
     "execution_count": 98,
     "metadata": {},
     "output_type": "execute_result"
    }
   ],
   "source": [
    "(y_test_predictions == y_test).sum().astype(float) / y_test.shape[0]"
   ]
  },
  {
   "cell_type": "markdown",
   "metadata": {},
   "source": [
    "结果看着还不错，但这是说如果我们把一个交易预测成正常交易（或者称为类型\n",
    "0），那么我们有95%左右的可能猜对。如果我们想看看模型对类型1的预测情况，\n",
    "可能就不是那么好了："
   ]
  },
  {
   "cell_type": "code",
   "execution_count": 99,
   "metadata": {
    "collapsed": false
   },
   "outputs": [
    {
     "data": {
      "text/plain": [
       "0.75862068965517238"
      ]
     },
     "execution_count": 99,
     "metadata": {},
     "output_type": "execute_result"
    }
   ],
   "source": [
    "(y_test[y_test==1] == y_test_predictions[y_test==1]).sum().astype(float) / y_test[y_test==1].shape[0]"
   ]
  },
  {
   "cell_type": "markdown",
   "metadata": {},
   "source": [
    "如果相比正常交易，我们更关心虚假交易；那么这是由商业规则决定的，我们可能\n",
    "会改变预测正确和预测错误的权重。\n",
    "通常情况下，虚假交易与正常交易的权重与训练集的类型权重的倒数一致。但是，\n",
    "因为我们更关心虚假交易，所有让我们用多重采样（oversample）方法来表示虚假\n",
    "交易与正常交易的权重"
   ]
  },
  {
   "cell_type": "code",
   "execution_count": 100,
   "metadata": {
    "collapsed": false
   },
   "outputs": [
    {
     "data": {
      "text/plain": [
       "LogisticRegression(C=1.0, class_weight={0: 0.15, 1: 0.85}, dual=False,\n",
       "          fit_intercept=True, intercept_scaling=1, max_iter=100,\n",
       "          multi_class='ovr', n_jobs=1, penalty='l2', random_state=None,\n",
       "          solver='liblinear', tol=0.0001, verbose=0, warm_start=False)"
      ]
     },
     "execution_count": 100,
     "metadata": {},
     "output_type": "execute_result"
    }
   ],
   "source": [
    "lr = LogisticRegression(class_weight={0: .15, 1: .85})\n",
    "lr.fit(X_train, y_train)"
   ]
  },
  {
   "cell_type": "code",
   "execution_count": 101,
   "metadata": {
    "collapsed": true
   },
   "outputs": [],
   "source": [
    "y_train_predicionts = lr.predict(X_train)\n",
    "y_test_predictions = lr.predict(X_test)"
   ]
  },
  {
   "cell_type": "code",
   "execution_count": 102,
   "metadata": {
    "collapsed": false
   },
   "outputs": [
    {
     "data": {
      "text/plain": [
       "0.89655172413793105"
      ]
     },
     "execution_count": 102,
     "metadata": {},
     "output_type": "execute_result"
    }
   ],
   "source": [
    "(y_test[y_test==1] == y_test_predictions[y_test==1]).sum().astype(float) / y_test[y_test==1].shape[0]"
   ]
  },
  {
   "cell_type": "markdown",
   "metadata": {},
   "source": [
    "但是，这么做需要付出什么代价？让我们看看："
   ]
  },
  {
   "cell_type": "code",
   "execution_count": 103,
   "metadata": {
    "collapsed": false
   },
   "outputs": [
    {
     "data": {
      "text/plain": [
       "0.97199999999999998"
      ]
     },
     "execution_count": 103,
     "metadata": {},
     "output_type": "execute_result"
    }
   ],
   "source": [
    "(y_test_predictions == y_test).sum().astype(float) / y_test.shape[0]"
   ]
  },
  {
   "cell_type": "markdown",
   "metadata": {},
   "source": [
    "可以看到，准确率降低了1%。这样是否合适由你的问题决定。如果与虚假交易相\n",
    "关的评估成本非常高，那么它就能抵消追踪虚假交易付出的成本。"
   ]
  },
  {
   "cell_type": "markdown",
   "metadata": {},
   "source": [
    "## 贝叶斯岭回归"
   ]
  },
  {
   "cell_type": "markdown",
   "metadata": {},
   "source": [
    "在用岭回归弥补线性回归的不足主题中，我们介绍了岭回归优化的限制条件。我们\n",
    "还介绍了相关系数的先验概率分布的贝叶斯解释，将很大程度地影响着先验概率分\n",
    "布，先验概率分布通常均值是0。\n",
    "因此，现在我们就来演示如何scikit-learn来应用这种解释。\n",
    "### Getting ready\n",
    "岭回归和套索回归（lasso regression）用贝叶斯观点来解释，与频率优化观点解释\n",
    "相反。scikit-learn只实现了贝叶斯岭回归，但是在How it works...一节，我们将对比\n",
    "两种回归算法。\n",
    "首先，我们创建一个回归数据集："
   ]
  },
  {
   "cell_type": "code",
   "execution_count": 104,
   "metadata": {
    "collapsed": true
   },
   "outputs": [],
   "source": [
    "from sklearn.datasets import make_regression\n",
    "X, y = make_regression(1000, 10, n_informative=2, noise=20)"
   ]
  },
  {
   "cell_type": "markdown",
   "metadata": {},
   "source": [
    "### How to do it...\n",
    "我们可以把岭回归加载进来拟合模型："
   ]
  },
  {
   "cell_type": "code",
   "execution_count": 106,
   "metadata": {
    "collapsed": true
   },
   "outputs": [],
   "source": [
    "from sklearn.linear_model import BayesianRidge\n",
    "br = BayesianRidge()"
   ]
  },
  {
   "cell_type": "markdown",
   "metadata": {},
   "source": [
    "有两组相关系数，分别是 alpha_1 / alpha_2 和 lambda_1 / lambda_2 。其\n",
    "中， alpha_* 是先验概率分布的$\\alpha$超参数， lambda_* 是先验概率分布的\n",
    "$\\lambda$超参数。\n",
    "首先，让我们不调整参数直接拟合模型："
   ]
  },
  {
   "cell_type": "code",
   "execution_count": 107,
   "metadata": {
    "collapsed": false
   },
   "outputs": [
    {
     "data": {
      "text/plain": [
       "array([  0.50156279,  79.18839385,  -1.18612825,  -0.42592529,\n",
       "         0.63847486,  -1.31591868,  22.43981645,  -0.62988679,\n",
       "        -0.50981261,   0.55965124])"
      ]
     },
     "execution_count": 107,
     "metadata": {},
     "output_type": "execute_result"
    }
   ],
   "source": [
    "br.fit(X, y)\n",
    "br.coef_"
   ]
  },
  {
   "cell_type": "markdown",
   "metadata": {},
   "source": [
    "现在，我们来调整超参数，注意观察相关系数的变化："
   ]
  },
  {
   "cell_type": "code",
   "execution_count": 108,
   "metadata": {
    "collapsed": false
   },
   "outputs": [
    {
     "data": {
      "text/plain": [
       "array([  0.50066887,  79.09773026,  -1.18286407,  -0.42463843,\n",
       "         0.63850704,  -1.31198103,  22.41464737,  -0.63026733,\n",
       "        -0.50517802,   0.55579574])"
      ]
     },
     "execution_count": 108,
     "metadata": {},
     "output_type": "execute_result"
    }
   ],
   "source": [
    "br_alphas = BayesianRidge(alpha_1=10, lambda_1=10)\n",
    "br_alphas.fit(X, y)\n",
    "br_alphas.coef_"
   ]
  },
  {
   "cell_type": "markdown",
   "metadata": {},
   "source": [
    "### How it works...\n",
    "因为是贝叶斯岭回归，我们假设先验概率分布带有误差和$\\alpha$参数，先验概率\n",
    "分布都服从$\\Gamma$分布。\n",
    "$\\Gamma$分布是一种极具灵活性的分布。不同的形状参数和尺度参数的\n",
    "$\\Gamma$分布形状有差异。1e-06是 scikit-learn里面 BayesianRidge 形状参数\n",
    "的默认参数值。"
   ]
  },
  {
   "cell_type": "code",
   "execution_count": 109,
   "metadata": {
    "collapsed": false
   },
   "outputs": [
    {
     "data": {
      "text/plain": [
       "<matplotlib.legend.Legend at 0xb348860>"
      ]
     },
     "execution_count": 109,
     "metadata": {},
     "output_type": "execute_result"
    },
    {
     "data": {
      "image/png": "[encoded data removed]",
      "text/plain": [
       "<matplotlib.figure.Figure at 0xb6aa390>"
      ]
     },
     "metadata": {},
     "output_type": "display_data"
    }
   ],
   "source": [
    "import matplotlib.pyplot as plt\n",
    "%matplotlib inline\n",
    "from scipy.stats import gamma\n",
    "import numpy as np\n",
    "form = lambda x, y: \"loc={}, scale={}\".format(x, y)\n",
    "g = lambda x, y=1e-06, z=1e-06: gamma.pdf(x, y, z)\n",
    "g2 = lambda x, y=1e-06, z=1: gamma.pdf(x, y, z)\n",
    "g3 = lambda x, y=1e-06, z=2: gamma.pdf(x, y, z)\n",
    "rng = np.linspace(0, 5)\n",
    "f, ax = plt.subplots(figsize=(8, 5))\n",
    "ax.plot(rng, list(map(g, rng)), label=form(1e-06, 1e-06), color='r')\n",
    "ax.plot(rng, list(map(g2, rng)), label=form(1e-06, 1), color='g')\n",
    "ax.plot(rng, list(map(g3, rng)), label=form(1e-06, 2), color='b')\n",
    "ax.set_title(\"Different Shapes of the Gamma Distribution\")\n",
    "ax.legend()"
   ]
  },
  {
   "cell_type": "markdown",
   "metadata": {},
   "source": [
    "你会看到，相关系数最终都会收缩到0，尤其当形状参数特别小的时候。\n",
    "### There's more...\n",
    "就像我前面介绍的，还有一种套索回归的贝叶斯解释。我们把先验概率分布看出是\n",
    "相关系数的函数；它们本身都是随机数。对于套索回归，我们选择一个可以产生0\n",
    "的分布，比如双指数分布（Double Exponential Distribution，也叫Laplace\n",
    "distribution）。"
   ]
  },
  {
   "cell_type": "code",
   "execution_count": 110,
   "metadata": {
    "collapsed": false,
    "scrolled": true
   },
   "outputs": [
    {
     "data": {
      "text/plain": [
       "<matplotlib.text.Text at 0xb432c88>"
      ]
     },
     "execution_count": 110,
     "metadata": {},
     "output_type": "execute_result"
    },
    {
     "data": {
      "image/png": "[encoded data removed]",
      "text/plain": [
       "<matplotlib.figure.Figure at 0xb3b8f98>"
      ]
     },
     "metadata": {},
     "output_type": "display_data"
    }
   ],
   "source": [
    "from scipy.stats import laplace\n",
    "form = lambda x, y: \"loc={}, scale={}\".format(x, y)\n",
    "g = lambda x: laplace.pdf(x)\n",
    "rng = np.linspace(-5, 5)\n",
    "f, ax = plt.subplots(figsize=(8, 5))\n",
    "ax.plot(rng, list(map(g, rng)), color='r')\n",
    "ax.set_title(\"Example of Double Exponential Distribution\")"
   ]
  },
  {
   "cell_type": "markdown",
   "metadata": {},
   "source": [
    "留意看x轴为0处的顶点。这将会使套索回归的相关系数为0。通过调整超参数，还\n",
    "有可能创建出相关系数为0的情况，这由问题的具体情况决定。"
   ]
  },
  {
   "cell_type": "markdown",
   "metadata": {},
   "source": [
    "## 用梯度提升回归从误差中学习"
   ]
  },
  {
   "cell_type": "markdown",
   "metadata": {},
   "source": [
    "梯度提升回归（Gradient boosting regression，GBR）是一种从它的错误中进行学\n",
    "习的技术。它本质上就是集思广益，集成一堆较差的学习算法进行学习。有两点需\n",
    "要注意：\n",
    "\n",
    "1. 每个学习算法准确率都不高，但是它们集成起来可以获得很好的准确率。\n",
    "2. 这些学习算法依次应用，也就是说每个学习算法都是在前一个学习算法的错误中学习。\n",
    "\n",
    "### Getting ready\n",
    "我们还是用基本的回归数据来演示GBR："
   ]
  },
  {
   "cell_type": "code",
   "execution_count": 111,
   "metadata": {
    "collapsed": true
   },
   "outputs": [],
   "source": [
    "import numpy as np\n",
    "from sklearn.datasets import make_regression\n",
    "X, y = make_regression(1000, 2, noise=2)"
   ]
  },
  {
   "cell_type": "markdown",
   "metadata": {},
   "source": [
    "### How to do it...\n",
    "GBR算是一种集成模型因为它是一个集成学习算法。这种称谓的含义是指GBR用许\n",
    "多较差的学习算法组成了一个更强大的学习算法："
   ]
  },
  {
   "cell_type": "code",
   "execution_count": 112,
   "metadata": {
    "collapsed": true
   },
   "outputs": [],
   "source": [
    "from sklearn.ensemble import GradientBoostingRegressor as GBR\n",
    "gbr = GBR()\n",
    "gbr.fit(X, y)\n",
    "gbr_preds = gbr.predict(X)"
   ]
  },
  {
   "cell_type": "markdown",
   "metadata": {},
   "source": [
    "很明显，这里应该不止一个模型，但是这种模式现在很简明。现在，让我们用基本\n",
    "回归算法来拟合数据当作参照："
   ]
  },
  {
   "cell_type": "code",
   "execution_count": 113,
   "metadata": {
    "collapsed": true
   },
   "outputs": [],
   "source": [
    "from sklearn.linear_model import LinearRegression\n",
    "lr = LinearRegression()\n",
    "lr.fit(X, y)\n",
    "lr_preds = lr.predict(X)"
   ]
  },
  {
   "cell_type": "markdown",
   "metadata": {},
   "source": [
    "有了参照之后，让我们看看GBR算法与线性回归算法效果的对比情况。图像生成可\n",
    "以参照第一章正态随机过程的相关主题，首先需要下面的计算："
   ]
  },
  {
   "cell_type": "code",
   "execution_count": 115,
   "metadata": {
    "collapsed": true
   },
   "outputs": [],
   "source": [
    "gbr_residuals = y - gbr_preds\n",
    "lr_residuals = y - lr_preds"
   ]
  },
  {
   "cell_type": "code",
   "execution_count": 116,
   "metadata": {
    "collapsed": false
   },
   "outputs": [
    {
     "data": {
      "text/plain": [
       "<matplotlib.legend.Legend at 0x9e155f8>"
      ]
     },
     "execution_count": 116,
     "metadata": {},
     "output_type": "execute_result"
    },
    {
     "data": {
      "image/png": "[encoded data removed]",
      "text/plain": [
       "<matplotlib.figure.Figure at 0xb1e9160>"
      ]
     },
     "metadata": {},
     "output_type": "display_data"
    }
   ],
   "source": [
    "%matplotlib inline\n",
    "from matplotlib import pyplot as plt\n",
    "\n",
    "f, ax = plt.subplots(figsize=(7, 5))\n",
    "f.tight_layout()\n",
    "ax.hist(gbr_residuals,bins=20,label='GBR Residuals', color='b',alpha=.5);\n",
    "ax.hist(lr_residuals,bins=20,label='LR Residuals', color='r', alpha=.5);\n",
    "ax.set_title(\"GBR Residuals vs LR Residuals\")\n",
    "ax.legend(loc='best')"
   ]
  },
  {
   "cell_type": "markdown",
   "metadata": {},
   "source": [
    "看起来好像GBR拟合的更好，但是并不明显。让我们用95%置信区间（Confidence\n",
    "interval,CI）对比一下："
   ]
  },
  {
   "cell_type": "code",
   "execution_count": 118,
   "metadata": {
    "collapsed": false
   },
   "outputs": [
    {
     "data": {
      "text/plain": [
       "array([-5.32138209,  5.37456372])"
      ]
     },
     "execution_count": 118,
     "metadata": {},
     "output_type": "execute_result"
    }
   ],
   "source": [
    "np.percentile(gbr_residuals, [2.5, 97.5])"
   ]
  },
  {
   "cell_type": "markdown",
   "metadata": {},
   "source": [
    "GBR的置信区间更小，数据更集中，因此其拟合效果更好；我们还可以对GBR算法\n",
    "进行一些调整来改善效果。我用下面的例子演示一下，然后在下一节介绍优化方\n",
    "法："
   ]
  },
  {
   "cell_type": "code",
   "execution_count": 119,
   "metadata": {
    "collapsed": true
   },
   "outputs": [],
   "source": [
    "n_estimators = np.arange(100, 1100, 350)\n",
    "gbrs = [GBR(n_estimators=n_estimator) for n_estimator in n_estimators]\n",
    "residuals = {}\n",
    "for i, gbr in enumerate(gbrs):\n",
    "    gbr.fit(X, y)\n",
    "    residuals[gbr.n_estimators] = y - gbr.predict(X)"
   ]
  },
  {
   "cell_type": "code",
   "execution_count": 122,
   "metadata": {
    "collapsed": false
   },
   "outputs": [
    {
     "data": {
      "image/png": "[encoded data removed]",
      "text/plain": [
       "<matplotlib.figure.Figure at 0xb5cef28>"
      ]
     },
     "metadata": {},
     "output_type": "display_data"
    }
   ],
   "source": [
    "f, ax = plt.subplots(figsize=(7, 5))\n",
    "f.tight_layout()\n",
    "colors = {800:'r', 450:'g', 100:'b'}\n",
    "for k, v in residuals.items():\n",
    "    ax.hist(v,bins=20,label='n_estimators: %d' % k, color=colors[k], alpha=.5)\n",
    "    ax.set_title(\"Residuals at Various Numbers of Estimators\")\n",
    "    ax.legend(loc='best')"
   ]
  },
  {
   "cell_type": "markdown",
   "metadata": {},
   "source": [
    "图像看着有点混乱，但是依然可以看出随着估计器数据的增加，误差在减少。不\n",
    "过，这并不是一成不变的。首先，我们没有交叉检验过，其次，随着估计器数量的\n",
    "增加，训练时间也会变长。现在我们用数据比较小没什么关系，但是如果数据再放\n",
    "大一两倍问题就出来了。\n",
    "### How it works...\n",
    "上面例子中GBR的第一个参数是 n_estimators ，指GBR使用的学习算法的数\n",
    "量。通常，如果你的设备性能更好，可以把 n_estimators 设置的更大，效果也\n",
    "会更好。还有另外几个参数要说明一下。\n",
    "你应该在优化其他参数之前先调整 max_depth 参数。因为每个学习算法都是一颗\n",
    "决策树， max_depth 决定了树生成的节点数。选择合适的节点数量可以更好的拟\n",
    "合数据，而更多的节点数可能造成拟合过度。\n",
    "loss 参数决定损失函数，也直接影响误差。 ls 是默认值，表示最小二乘法\n",
    "（least squares）。还有最小绝对值差值，Huber损失和分位数损失（quantiles）\n",
    "等等。"
   ]
  }
 ],
 "metadata": {
  "kernelspec": {
   "display_name": "Python 3",
   "language": "python",
   "name": "python3"
  },
  "language_info": {
   "codemirror_mode": {
    "name": "ipython",
    "version": 3
   },
   "file_extension": ".py",
   "mimetype": "text/x-python",
   "name": "python",
   "nbconvert_exporter": "python",
   "pygments_lexer": "ipython3",
   "version": "3.6.0"
  }
 },
 "nbformat": 4,
 "nbformat_minor": 2
}
